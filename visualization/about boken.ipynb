{
 "cells": [
  {
   "cell_type": "markdown",
   "metadata": {},
   "source": [
    "# all start "
   ]
  },
  {
   "cell_type": "code",
   "execution_count": 1,
   "metadata": {},
   "outputs": [],
   "source": [
    "from bokeh.plotting import figure, output_file, show\n",
    "from bokeh.layouts import layout\n",
    "#HTML file to output your plot into output_file(\"bokeh.html\")”\n",
    "#Constructing a basic line plot \n",
    "x = [1,2,3]\n",
    "y = [4,5,6]\n",
    "\n",
    "p = figure()\n",
    "p.line(x,y)\n",
    "show(layout([p]))"
   ]
  },
  {
   "cell_type": "code",
   "execution_count": 2,
   "metadata": {},
   "outputs": [],
   "source": [
    "import numpy as np\n",
    "\n",
    "from bokeh.layouts import column, row\n",
    "from bokeh.models import CustomJS, Slider\n",
    "from bokeh.plotting import ColumnDataSource, figure, output_file, show\n",
    "\n",
    "x = np.linspace(0, 10, 500)\n",
    "y = np.sin(x)\n",
    "\n",
    "source = ColumnDataSource(data=dict(x=x, y=y))\n",
    "\n",
    "plot = figure(y_range=(-10, 10), plot_width=400, plot_height=400)\n",
    "\n",
    "plot.line('x', 'y', source=source, line_width=3, line_alpha=0.6)\n",
    "\n",
    "amp_slider = Slider(start=0.1, end=10, value=1, step=.1, title=\"Amplitude\")\n",
    "freq_slider = Slider(start=0.1, end=10, value=1, step=.1, title=\"Frequency\")\n",
    "phase_slider = Slider(start=0, end=6.4, value=0, step=.1, title=\"Phase\")\n",
    "offset_slider = Slider(start=-5, end=5, value=0, step=.1, title=\"Offset\")\n",
    "\n",
    "callback = CustomJS(args=dict(source=source, amp=amp_slider, \n",
    "                    freq=freq_slider, phase=phase_slider, \n",
    "                              offset=offset_slider),\n",
    "                    code=\"\"\"\n",
    "    const data = source.data;\n",
    "    const A = amp.value;\n",
    "    const k = freq.value;\n",
    "    const phi = phase.value;\n",
    "    const B = offset.value;\n",
    "    const x = data['x']\n",
    "    const y = data['y']\n",
    "    for (var i = 0; i < x.length; i++) {\n",
    "        y[i] = B + A*Math.sin(k*x[i]+phi);\n",
    "    }\n",
    "    source.change.emit();\n",
    "\"\"\")\n",
    "\n",
    "amp_slider.js_on_change('value', callback)\n",
    "freq_slider.js_on_change('value', callback)\n",
    "phase_slider.js_on_change('value', callback)\n",
    "offset_slider.js_on_change('value', callback)\n",
    "\n",
    "layout = row(\n",
    "    plot,\n",
    "    column(amp_slider, freq_slider, phase_slider, offset_slider),\n",
    ")\n",
    "\n",
    "#output_file(\"slider.html\", title=\"slider.py example\")\n",
    "\n",
    "show(layout)"
   ]
  },
  {
   "cell_type": "markdown",
   "metadata": {},
   "source": [
    "## 折线图"
   ]
  },
  {
   "cell_type": "markdown",
   "metadata": {},
   "source": [
    "### 概述\n",
    "\n",
    "折线图（Line）是将排列在工作表的列或行中的数据进行绘制后形成的线状图形。折线图可以显示随时间（根据常用比例设置）而变化的连续数据，非常适用于显示在相等时间间隔下数据的趋势。\n",
    "\n",
    "在折线图中，数据是递增还是递减、增减的速率、增减的规律（周期性、螺旋性等）、峰值等特征都可以清晰地反映出来。所以，折线图常用来分析数据随时间的变化趋势，也可用来分析多组数据随时间变化的相互作用和相互影响。\n",
    "\n",
    "例如，可用来分析某类商品或是某几类相关的商品随时间变化的销售情况，从而进一步预测未来的销售情况。在折线图中，一般水平轴（x轴）用来表示时间的推移，并且间隔相同；而垂直轴（y轴）代表不同时刻的数据的大小。如图0所示。\n"
   ]
  },
  {
   "cell_type": "markdown",
   "metadata": {},
   "source": [
    "### 实例"
   ]
  },
  {
   "cell_type": "code",
   "execution_count": 2,
   "metadata": {},
   "outputs": [
    {
     "name": "stderr",
     "output_type": "stream",
     "text": [
      "BokehDeprecationWarning: 'legend' keyword is deprecated, use explicit 'legend_label', 'legend_field', or 'legend_group' keywords instead\n"
     ]
    }
   ],
   "source": [
    "from bokeh.plotting import figure, output_file, show\n",
    "from bokeh.layouts import layout\n",
    "# 数据  \n",
    "x = [1, 2, 3, 4, 5, 6, 7]  \n",
    "y = [6, 7, 2, 4, 5, 10, 4]  \n",
    "# 画布：坐标轴标签，画布大小  \n",
    "p = figure(title=\"line example\", x_axis_label='x', y_axis_label='y', width=400, height=400)  \n",
    "# 绘图：数据、图例、线宽  \n",
    "p.line(x, y, legend=\"Temp.\", line_width=2)  # 折线  \n",
    "# 显示\n",
    "show(p)"
   ]
  },
  {
   "cell_type": "markdown",
   "metadata": {},
   "source": [
    "### p.line(x, y, **kwargs)参数说明\n",
    "\n",
    "* x (:class:`~bokeh.core.properties.NumberSpec` ) : x坐标。\n",
    "\n",
    "* y (:class:`~bokeh.core.properties.NumberSpec` ) : y坐标。\n",
    "\n",
    "* line_alpha (:class:`~bokeh.core.properties.NumberSpec` ) : (default: 1.0) 轮廓线透明度。\n",
    "\n",
    "* line_cap ( :class:`~bokeh.core.enums.LineCap` ) : (default: 'butt') 线端。\n",
    "\n",
    "* line_color (:class:`~bokeh.core.properties.ColorSpec` ) : (default: 'black') 轮廓线颜色，默认：黑色。\n",
    "\n",
    "* line_dash (:class:`~bokeh.core.properties.DashPattern` ) : (default: []) 虚线，类型可以是序列，也可以是字符串('solid', 'dashed', 'dotted', 'dotdash', 'dashdot')。\n",
    "\n",
    "* line_dash_offset (:class:`~bokeh.core.properties.Int` ) : (default: 0) 虚线偏移。\n",
    "\n",
    "* line_join (:class:`~bokeh.core.enums.LineJoin` ) : (default: 'bevel')。\n",
    "\n",
    "* line_width (:class:`~bokeh.core.properties.NumberSpec` ) : (default: 1) 线宽。\n",
    "\n",
    "* name (:class:`~bokeh.core.properties.String` ) : 图元名称。\n",
    "\n",
    "* tags (:class:`~bokeh.core.properties.Any` ) :图元标签。\n",
    "\n",
    "* alpha (float) : 一次性设置所有线条的透明度。\n",
    "\n",
    "* color (Color) : 一次性设置所有线条的颜色。\n",
    "\n",
    "* source (ColumnDataSource) : Bokeh特有数据格式（类似于Pandas Dataframe）。\n",
    "\n",
    "* legend (str) : 图元的图例。\n",
    "\n",
    "* x_range_name (str) : x轴范围名称。\n",
    "\n",
    "* y_range_name (str) : y轴范围名称。\n",
    "\n",
    "* level (Enum) : 图元渲染级别。"
   ]
  },
  {
   "cell_type": "code",
   "execution_count": 4,
   "metadata": {},
   "outputs": [],
   "source": [
    "p = figure(plot_width=400, plot_height=400)  \n",
    "# 线段x、y位置点均为列表；两段线的颜色、透明度、线宽  \n",
    "p.multi_line([[1, 3, 2], [3, 4, 6, 6]], [[2, 1, 4], [4, 7, 8, 5]],  \n",
    "color=[\"firebrick\", \"navy\"], alpha=[0.8, 0.3], line_width=4)  # 多条折(曲)线\n",
    "show(p)"
   ]
  },
  {
   "cell_type": "markdown",
   "metadata": {},
   "source": [
    "使用multi_line()方法，实现一次性绘制两条折线，同时，在参数中定义不同折线的颜色。如果使用Pandas Dataframe，则可以同时绘制不同列的数据。multi_line()方法的参数说明如下。\n",
    "\n",
    "### p.multi_line(xs, ys, **kwargs)参数说明\n",
    "\n",
    "* xs (:class:`~bokeh.core.properties.NumberSpec` ) :x坐标，列表。\n",
    "\n",
    "* ys (:class:`~bokeh.core.properties.NumberSpec` ) :y坐标，列表。"
   ]
  },
  {
   "cell_type": "code",
   "execution_count": 5,
   "metadata": {},
   "outputs": [
    {
     "name": "stderr",
     "output_type": "stream",
     "text": [
      "BokehDeprecationWarning: 'legend' keyword is deprecated, use explicit 'legend_label', 'legend_field', or 'legend_group' keywords instead\n",
      "BokehDeprecationWarning: 'legend' keyword is deprecated, use explicit 'legend_label', 'legend_field', or 'legend_group' keywords instead\n",
      "BokehDeprecationWarning: 'legend' keyword is deprecated, use explicit 'legend_label', 'legend_field', or 'legend_group' keywords instead\n",
      "BokehDeprecationWarning: 'legend' keyword is deprecated, use explicit 'legend_label', 'legend_field', or 'legend_group' keywords instead\n",
      "BokehDeprecationWarning: 'legend' keyword is deprecated, use explicit 'legend_label', 'legend_field', or 'legend_group' keywords instead\n",
      "BokehDeprecationWarning: 'legend' keyword is deprecated, use explicit 'legend_label', 'legend_field', or 'legend_group' keywords instead\n"
     ]
    }
   ],
   "source": [
    "# 准备数据  \n",
    "x = [0.1, 0.5, 1.0, 1.5, 2.0, 2.5, 3.0]  \n",
    "y0 = [i**2 for i in x]  \n",
    "y1 = [10**i for i in x]  \n",
    "y2 = [10**(i**2) for i in x]  \n",
    "# 创建画布  \n",
    "p = figure(  \n",
    "      tools=\"pan,box_zoom,reset,save\",  \n",
    "      y_axis_type=\"log\", title=\"log axis example\",  \n",
    "      x_axis_label='sections', y_axis_label='particles',  \n",
    "      width=700, height=350)  \n",
    "# 增加图层，绘图  \n",
    "p.line(x, x, legend=\"y=x\")  \n",
    "p.circle(x, x, legend=\"y=x\", fill_color=\"white\", size=8)  \n",
    "p.line(x, y0, legend=\"y=x^2\", line_width=3)  \n",
    "p.line(x, y1, legend=\"y=10^x\", line_color=\"red\")  \n",
    "p.circle(x, y1, legend=\"y=10^x\", fill_color=\"red\", line_color=\"red\", size=6) \n",
    "p.line(x, y2, legend=\"y=10^x^2\", line_color=\"orange\", line_dash=\"4 4\")  \n",
    "# 显示  \n",
    "show(p)"
   ]
  },
  {
   "cell_type": "markdown",
   "metadata": {},
   "source": [
    "第13、15、16行使用line()方法逐一绘制折线，该方法的优点是基本数据清晰，可在不同线条绘制过程中直接定义图例。读者也可以使用multi_line()方法一次性绘制三条折线，然后再绘制折线上的数据点。同样，既可以在函数中预定义图例，也可以用Lengend方法单独进行定义，在后会对图例进行详细说明。"
   ]
  },
  {
   "cell_type": "code",
   "execution_count": 6,
   "metadata": {},
   "outputs": [],
   "source": [
    "p.legend.location = \"top_left\"  # 图例位于左上  \n",
    "p.legend.click_policy=\"hide\" # 点击图例显示、隐藏图形  \n",
    "show(p)  # 自行测试效果"
   ]
  },
  {
   "cell_type": "markdown",
   "metadata": {},
   "source": [
    "增加了图例的位置、显示或隐藏图形属性；通过点击图例，可实现图形的显示或隐藏，当折线数目较多或者颜色干扰阅读时，可以通过该方法实现对某一条折线数据的重点关注。这种通过图例、工具条、控件实现数据人机交互的可视化方式，正是Bokeh得以在GitHub火热的原因，建议在工作实践中予以借鉴。"
   ]
  },
  {
   "cell_type": "code",
   "execution_count": 7,
   "metadata": {},
   "outputs": [],
   "source": [
    "from bokeh.models import ColumnDataSource, NumeralTickFormatter, SingleIntervalTicker\n",
    "from bokeh.sampledata.us_marriages_divorces import data  \n",
    "# 数据  \n",
    "data = data.interpolate(method='linear', axis=0).ffill().bfill()  \n",
    "source = ColumnDataSource(data=dict(  \n",
    "       year=data.Year.values,  \n",
    "       marriages=data.Marriages_per_1000.values,  \n",
    "       divorces=data.Divorces_per_1000.values,  \n",
    "))  \n",
    "# 工具条  \n",
    "TOOLS = 'pan,wheel_zoom,box_zoom,reset,save'  \n",
    "# 画布  \n",
    "p = figure(tools=TOOLS, plot_width=800, plot_height=500,  \n",
    "              tooltips='<font face=\"Arial\" size=\"3\">@$name{0.0} $name per 1,000 people in @year</font>')  \n",
    "# 其他自定义属性  \n",
    "p.hover.mode = 'vline'  \n",
    "p.xaxis.ticker = SingleIntervalTicker(interval=10, num_minor_ticks=0)  \n",
    "p.yaxis.formatter = NumeralTickFormatter(format='0.0a')  \n",
    "p.yaxis.axis_label = '# per 1,000 people'  \n",
    "p.title.text = '144 years of marriage and divorce in the U.S.'  \n",
    "# 绘图  \n",
    "p.line('year', 'marriages', color='#1f77b4', line_width=3, source=source, name=\"marriages\")  \n",
    "p.line('year', 'divorces', color='#ff7f0e', line_width=3, source=source, name=\"divorces\")  \n",
    "# 显示  \n",
    "show(p)  "
   ]
  },
  {
   "cell_type": "markdown",
   "metadata": {},
   "source": [
    "第22、23行通过line()方法绘制两条曲线，严格上讲这两条曲线并不是Bokeh时间序列的标准绘制方法。第17行定义了x轴刻度的间隔以及中间刻度数，"
   ]
  },
  {
   "cell_type": "code",
   "execution_count": null,
   "metadata": {},
   "outputs": [],
   "source": []
  },
  {
   "cell_type": "code",
   "execution_count": null,
   "metadata": {},
   "outputs": [],
   "source": []
  },
  {
   "cell_type": "code",
   "execution_count": null,
   "metadata": {},
   "outputs": [],
   "source": []
  },
  {
   "cell_type": "code",
   "execution_count": null,
   "metadata": {},
   "outputs": [],
   "source": []
  },
  {
   "cell_type": "code",
   "execution_count": null,
   "metadata": {},
   "outputs": [],
   "source": []
  }
 ],
 "metadata": {
  "kernelspec": {
   "display_name": "Python 3",
   "language": "python",
   "name": "python3"
  },
  "language_info": {
   "codemirror_mode": {
    "name": "ipython",
    "version": 3
   },
   "file_extension": ".py",
   "mimetype": "text/x-python",
   "name": "python",
   "nbconvert_exporter": "python",
   "pygments_lexer": "ipython3",
   "version": "3.7.4"
  }
 },
 "nbformat": 4,
 "nbformat_minor": 4
}
