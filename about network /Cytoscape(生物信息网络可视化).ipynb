{
 "metadata": {
  "language_info": {
   "codemirror_mode": {
    "name": "ipython",
    "version": 3
   },
   "file_extension": ".py",
   "mimetype": "text/x-python",
   "name": "python",
   "nbconvert_exporter": "python",
   "pygments_lexer": "ipython3",
   "version": 3
  },
  "orig_nbformat": 2
 },
 "nbformat": 4,
 "nbformat_minor": 2,
 "cells": [
  {
   "cell_type": "markdown",
   "metadata": {},
   "source": [
    "Cytoscape是一款開源免費的網絡視覺化和分析工具，專注在處理生物分子、蛋白質交互網絡，對於生物資料庫的整合頗佳，且其最有名的就是許多插件可以安裝\n",
    "\n",
    "Cytoscape支持的网络种类很多。比如蛋白互作（PPI）、转录调控网络图（TF-target）、网络聚类模块分析（Module）、miRNA调控靶标基因网络图、竞争性内源RNA网络（ceRNA）、通路交互网络（pathway-crosstalk），文章引用量非常多。"
   ]
  },
  {
   "cell_type": "code",
   "execution_count": null,
   "metadata": {},
   "outputs": [],
   "source": []
  }
 ]
}