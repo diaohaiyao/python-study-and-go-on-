{
 "metadata": {
  "language_info": {
   "codemirror_mode": {
    "name": "ipython",
    "version": 3
   },
   "file_extension": ".py",
   "mimetype": "text/x-python",
   "name": "python",
   "nbconvert_exporter": "python",
   "pygments_lexer": "ipython3",
   "version": "3.7.4-final"
  },
  "orig_nbformat": 2,
  "kernelspec": {
   "name": "python_defaultSpec_1599803007286",
   "display_name": "Python 3.7.4 64-bit ('anaconda3': virtualenv)"
  }
 },
 "nbformat": 4,
 "nbformat_minor": 2,
 "cells": [
  {
   "cell_type": "markdown",
   "metadata": {},
   "source": [
    "# 关于 tushare 使用学习的一些笔记\n",
    "\n",
    "### 实时行情\n",
    "\n",
    "一次性获取当前交易所有股票的行情数据（如果是节假日，即为上一交易日，结果显示速度取决于网速）\n",
    "\n",
    "返回值说明：\n",
    "\n",
    "* code：代码\n",
    "* name:名称\n",
    "* changepercent:涨跌幅\n",
    "* trade:现价\n",
    "* open:开盘价\n",
    "* high:最高价\n",
    "* low:最低价\n",
    "* settlement:昨日收盘价\n",
    "* volume:成交量\n",
    "* turnoverratio:换手率\n",
    "* amount:成交金额\n",
    "* per:市盈率\n",
    "* pb:市净率\n",
    "* mktcap:总市值\n",
    "* nmc:流通市值\n"
   ]
  },
  {
   "cell_type": "code",
   "execution_count": 2,
   "metadata": {
    "tags": []
   },
   "outputs": [
    {
     "output_type": "stream",
     "name": "stdout",
     "text": "[Getting data:]##########################################"
    },
    {
     "output_type": "execute_result",
     "data": {
      "text/plain": "        code   name  changepercent   trade   open    high    low  settlement  \\\n0     688981   中芯国际          4.433   55.12  52.78   55.17  52.66       52.78   \n1     688600   皖仪科技          2.326   22.00  21.47   22.24  21.16       21.50   \n2     688599   天合光能          1.550   15.07  14.68   15.07  14.65       14.84   \n3     688598   金博股份          1.378  100.82  98.08  100.97  95.24       99.45   \n4     688596   正帆科技          4.309   23.24  22.23   23.28  22.20       22.28   \n...      ...    ...            ...     ...    ...     ...    ...         ...   \n4093  600238   ST椰岛          2.059    4.46   4.37    4.50   4.31        4.37   \n4094  600234   ST山水          1.093    9.25   9.15    9.27   9.11        9.15   \n4095  600228   ST昌九          0.156   12.84  12.83   12.90  12.62       12.82   \n4096  600226  *ST瀚叶         -4.268    1.57   1.60    1.63   1.56        1.64   \n4097  600225  *ST松江         -4.348    1.98   2.03    2.04   1.97        2.07   \n\n        volume  turnoverratio      amount      per      pb        mktcap  \\\n0     28901740        2.77840  1556428294    0.000   6.053  4.241684e+07   \n1       756317        2.49254    16313175   32.836   3.776  2.933480e+05   \n2      5441458        1.84741    80672590    0.000   2.104  3.116516e+06   \n3       741061        4.05302    73285154   76.634   6.672  8.065600e+05   \n4      3351944        6.17160    76424628   51.644   6.405  5.961060e+05   \n...        ...            ...         ...      ...     ...           ...   \n4093    681200        0.15308     3003280   -7.433   4.075  1.998972e+05   \n4094    315300        0.15575     2899733  115.625  24.183  1.872624e+05   \n4095   1475100        0.61126    18874782 -546.383  57.708  3.098549e+05   \n4096  62765059        2.56194    98663764   -7.136   1.333  4.912550e+05   \n4097  12862959        1.37884    25452901   -2.020 -28.326  1.852275e+05   \n\n               nmc  \n0     5.733755e+06  \n1     6.675506e+04  \n2     4.438798e+05  \n3     1.843408e+05  \n4     1.262220e+05  \n...            ...  \n4093  1.984707e+05  \n4094  1.872624e+05  \n4095  3.098549e+05  \n4096  3.846356e+05  \n4097  1.847105e+05  \n\n[4098 rows x 15 columns]",
      "text/html": "<div>\n<style scoped>\n    .dataframe tbody tr th:only-of-type {\n        vertical-align: middle;\n    }\n\n    .dataframe tbody tr th {\n        vertical-align: top;\n    }\n\n    .dataframe thead th {\n        text-align: right;\n    }\n</style>\n<table border=\"1\" class=\"dataframe\">\n  <thead>\n    <tr style=\"text-align: right;\">\n      <th></th>\n      <th>code</th>\n      <th>name</th>\n      <th>changepercent</th>\n      <th>trade</th>\n      <th>open</th>\n      <th>high</th>\n      <th>low</th>\n      <th>settlement</th>\n      <th>volume</th>\n      <th>turnoverratio</th>\n      <th>amount</th>\n      <th>per</th>\n      <th>pb</th>\n      <th>mktcap</th>\n      <th>nmc</th>\n    </tr>\n  </thead>\n  <tbody>\n    <tr>\n      <th>0</th>\n      <td>688981</td>\n      <td>中芯国际</td>\n      <td>4.433</td>\n      <td>55.12</td>\n      <td>52.78</td>\n      <td>55.17</td>\n      <td>52.66</td>\n      <td>52.78</td>\n      <td>28901740</td>\n      <td>2.77840</td>\n      <td>1556428294</td>\n      <td>0.000</td>\n      <td>6.053</td>\n      <td>4.241684e+07</td>\n      <td>5.733755e+06</td>\n    </tr>\n    <tr>\n      <th>1</th>\n      <td>688600</td>\n      <td>皖仪科技</td>\n      <td>2.326</td>\n      <td>22.00</td>\n      <td>21.47</td>\n      <td>22.24</td>\n      <td>21.16</td>\n      <td>21.50</td>\n      <td>756317</td>\n      <td>2.49254</td>\n      <td>16313175</td>\n      <td>32.836</td>\n      <td>3.776</td>\n      <td>2.933480e+05</td>\n      <td>6.675506e+04</td>\n    </tr>\n    <tr>\n      <th>2</th>\n      <td>688599</td>\n      <td>天合光能</td>\n      <td>1.550</td>\n      <td>15.07</td>\n      <td>14.68</td>\n      <td>15.07</td>\n      <td>14.65</td>\n      <td>14.84</td>\n      <td>5441458</td>\n      <td>1.84741</td>\n      <td>80672590</td>\n      <td>0.000</td>\n      <td>2.104</td>\n      <td>3.116516e+06</td>\n      <td>4.438798e+05</td>\n    </tr>\n    <tr>\n      <th>3</th>\n      <td>688598</td>\n      <td>金博股份</td>\n      <td>1.378</td>\n      <td>100.82</td>\n      <td>98.08</td>\n      <td>100.97</td>\n      <td>95.24</td>\n      <td>99.45</td>\n      <td>741061</td>\n      <td>4.05302</td>\n      <td>73285154</td>\n      <td>76.634</td>\n      <td>6.672</td>\n      <td>8.065600e+05</td>\n      <td>1.843408e+05</td>\n    </tr>\n    <tr>\n      <th>4</th>\n      <td>688596</td>\n      <td>正帆科技</td>\n      <td>4.309</td>\n      <td>23.24</td>\n      <td>22.23</td>\n      <td>23.28</td>\n      <td>22.20</td>\n      <td>22.28</td>\n      <td>3351944</td>\n      <td>6.17160</td>\n      <td>76424628</td>\n      <td>51.644</td>\n      <td>6.405</td>\n      <td>5.961060e+05</td>\n      <td>1.262220e+05</td>\n    </tr>\n    <tr>\n      <th>...</th>\n      <td>...</td>\n      <td>...</td>\n      <td>...</td>\n      <td>...</td>\n      <td>...</td>\n      <td>...</td>\n      <td>...</td>\n      <td>...</td>\n      <td>...</td>\n      <td>...</td>\n      <td>...</td>\n      <td>...</td>\n      <td>...</td>\n      <td>...</td>\n      <td>...</td>\n    </tr>\n    <tr>\n      <th>4093</th>\n      <td>600238</td>\n      <td>ST椰岛</td>\n      <td>2.059</td>\n      <td>4.46</td>\n      <td>4.37</td>\n      <td>4.50</td>\n      <td>4.31</td>\n      <td>4.37</td>\n      <td>681200</td>\n      <td>0.15308</td>\n      <td>3003280</td>\n      <td>-7.433</td>\n      <td>4.075</td>\n      <td>1.998972e+05</td>\n      <td>1.984707e+05</td>\n    </tr>\n    <tr>\n      <th>4094</th>\n      <td>600234</td>\n      <td>ST山水</td>\n      <td>1.093</td>\n      <td>9.25</td>\n      <td>9.15</td>\n      <td>9.27</td>\n      <td>9.11</td>\n      <td>9.15</td>\n      <td>315300</td>\n      <td>0.15575</td>\n      <td>2899733</td>\n      <td>115.625</td>\n      <td>24.183</td>\n      <td>1.872624e+05</td>\n      <td>1.872624e+05</td>\n    </tr>\n    <tr>\n      <th>4095</th>\n      <td>600228</td>\n      <td>ST昌九</td>\n      <td>0.156</td>\n      <td>12.84</td>\n      <td>12.83</td>\n      <td>12.90</td>\n      <td>12.62</td>\n      <td>12.82</td>\n      <td>1475100</td>\n      <td>0.61126</td>\n      <td>18874782</td>\n      <td>-546.383</td>\n      <td>57.708</td>\n      <td>3.098549e+05</td>\n      <td>3.098549e+05</td>\n    </tr>\n    <tr>\n      <th>4096</th>\n      <td>600226</td>\n      <td>*ST瀚叶</td>\n      <td>-4.268</td>\n      <td>1.57</td>\n      <td>1.60</td>\n      <td>1.63</td>\n      <td>1.56</td>\n      <td>1.64</td>\n      <td>62765059</td>\n      <td>2.56194</td>\n      <td>98663764</td>\n      <td>-7.136</td>\n      <td>1.333</td>\n      <td>4.912550e+05</td>\n      <td>3.846356e+05</td>\n    </tr>\n    <tr>\n      <th>4097</th>\n      <td>600225</td>\n      <td>*ST松江</td>\n      <td>-4.348</td>\n      <td>1.98</td>\n      <td>2.03</td>\n      <td>2.04</td>\n      <td>1.97</td>\n      <td>2.07</td>\n      <td>12862959</td>\n      <td>1.37884</td>\n      <td>25452901</td>\n      <td>-2.020</td>\n      <td>-28.326</td>\n      <td>1.852275e+05</td>\n      <td>1.847105e+05</td>\n    </tr>\n  </tbody>\n</table>\n<p>4098 rows × 15 columns</p>\n</div>"
     },
     "metadata": {},
     "execution_count": 2
    }
   ],
   "source": [
    "import tushare as ts\n",
    "token = '1212fb28fdc360c768e0bd5fca52afa9c8136809afad540f8cf11bc8'\n",
    "pro = ts.pro_api(token)\n",
    "# 目前运行时间是 20200911 13:48 分, 则上面的程序就获得目前所有股票的交易数据. 共 4097 条.\n",
    "ts.get_today_all()"
   ]
  },
  {
   "cell_type": "code",
   "execution_count": null,
   "metadata": {},
   "outputs": [],
   "source": []
  },
  {
   "cell_type": "code",
   "execution_count": null,
   "metadata": {},
   "outputs": [],
   "source": []
  },
  {
   "cell_type": "code",
   "execution_count": null,
   "metadata": {},
   "outputs": [],
   "source": []
  },
  {
   "cell_type": "code",
   "execution_count": null,
   "metadata": {},
   "outputs": [],
   "source": []
  },
  {
   "cell_type": "code",
   "execution_count": null,
   "metadata": {},
   "outputs": [],
   "source": []
  },
  {
   "cell_type": "code",
   "execution_count": null,
   "metadata": {},
   "outputs": [],
   "source": []
  },
  {
   "cell_type": "code",
   "execution_count": null,
   "metadata": {},
   "outputs": [],
   "source": []
  },
  {
   "cell_type": "code",
   "execution_count": null,
   "metadata": {},
   "outputs": [],
   "source": []
  }
 ]
}