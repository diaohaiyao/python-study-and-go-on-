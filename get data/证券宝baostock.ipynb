{
 "metadata": {
  "language_info": {
   "codemirror_mode": {
    "name": "ipython",
    "version": 3
   },
   "file_extension": ".py",
   "mimetype": "text/x-python",
   "name": "python",
   "nbconvert_exporter": "python",
   "pygments_lexer": "ipython3",
   "version": "3.7.4-final"
  },
  "orig_nbformat": 2,
  "kernelspec": {
   "name": "Python 3.7.4 64-bit ('base': conda)",
   "display_name": "Python 3.7.4 64-bit ('base': conda)",
   "metadata": {
    "interpreter": {
     "hash": "dca0ade3e726a953b501b15e8e990130d2b7799f14cfd9f4271676035ebe5511"
    }
   }
  }
 },
 "nbformat": 4,
 "nbformat_minor": 2,
 "cells": [
  {
   "cell_type": "markdown",
   "metadata": {},
   "source": [
    "[baostock的python API文档](http://baostock.com/baostock/index.php/Python_API%E6%96%87%E6%A1%A3)\n",
    "\n",
    "这个目前发现的优点是: 可以获得5分钟 10分钟的k线... \n",
    "其他值得进一步研究..."
   ]
  },
  {
   "cell_type": "code",
   "execution_count": 1,
   "metadata": {
    "tags": []
   },
   "outputs": [
    {
     "output_type": "stream",
     "name": "stdout",
     "text": "login success!\nlogin respond error_code:0\nlogin respond  error_msg:success\nquery_history_k_data_plus respond error_code:0\nquery_history_k_data_plus respond  error_msg:success\n           date       code     open     high      low    close preclose  \\\n0    2017-06-01  sh.600000  12.7800  12.9700  12.6900  12.9200  12.8400   \n1    2017-06-02  sh.600000  12.9300  13.0100  12.7400  12.8900  12.9200   \n2    2017-06-05  sh.600000  12.7900  12.8800  12.5100  12.8500  12.8900   \n3    2017-06-06  sh.600000  12.8000  12.8400  12.6600  12.8000  12.8500   \n4    2017-06-07  sh.600000  12.8100  12.9900  12.7800  12.8400  12.8000   \n..          ...        ...      ...      ...      ...      ...      ...   \n142  2017-12-25  sh.600000  12.6100  12.6800  12.5600  12.5900  12.6200   \n143  2017-12-26  sh.600000  12.5700  12.6600  12.5600  12.6400  12.5900   \n144  2017-12-27  sh.600000  12.6500  12.6600  12.5300  12.6200  12.6400   \n145  2017-12-28  sh.600000  12.6000  12.6600  12.5300  12.5400  12.6200   \n146  2017-12-29  sh.600000  12.5200  12.6200  12.5100  12.5900  12.5400   \n\n       volume           amount adjustflag      turn tradestatus     pctChg  \\\n0    96217055  1235216032.0000          3  0.342364           1   0.623052   \n1    80197701  1034450240.0000          3  0.285363           1  -0.232196   \n2    75876475   963227280.0000          3  0.269987           1  -0.310318   \n3    36104406   460469440.0000          3  0.128468           1  -0.389107   \n4    64395191   827766624.0000          3  0.229134           1   0.312500   \n..        ...              ...        ...       ...         ...        ...   \n142  19306662   243553698.0000          3  0.068698           1  -0.237716   \n143  15225722   192219131.0000          3  0.054177           1   0.397142   \n144  32731881   412197987.0000          3  0.116468           1  -0.158231   \n145  23870824   300834017.0000          3  0.084938           1  -0.633914   \n146  16351826   205752875.0000          3  0.058184           1   0.398726   \n\n        peTTM     pbMRQ     psTTM  pcfNcfTTM isST  \n0    6.769340  1.037013  2.255830  -3.293370    0  \n1    6.753622  1.034605  2.250592  -3.285723    0  \n2    6.732664  1.031394  2.243608  -3.275527    0  \n3    6.706467  1.027381  2.234878  -3.262781    0  \n4    6.727425  1.030591  2.241862  -3.272978    0  \n..        ...       ...       ...        ...  ...  \n142  6.804447  0.953811  2.244659  -1.985017    0  \n143  6.831470  0.957599  2.253573  -1.992900    0  \n144  6.820661  0.956084  2.250008  -1.989747    0  \n145  6.777423  0.950023  2.235744  -1.977134    0  \n146  6.804447  0.953811  2.244659  -1.985017    0  \n\n[147 rows x 18 columns]\nlogout success!\n"
    },
    {
     "output_type": "execute_result",
     "data": {
      "text/plain": "<baostock.data.resultset.ResultData at 0x212ebfcc710>"
     },
     "metadata": {},
     "execution_count": 1
    }
   ],
   "source": [
    "import baostock as bs\n",
    "import pandas as pd\n",
    "\n",
    "#### 登陆系统 ####\n",
    "lg = bs.login()\n",
    "# 显示登陆返回信息\n",
    "print('login respond error_code:'+lg.error_code)\n",
    "print('login respond  error_msg:'+lg.error_msg)\n",
    "\n",
    "#### 获取历史K线数据 ####\n",
    "# 详细指标参数，参见“历史行情指标参数”章节\n",
    "rs = bs.query_history_k_data_plus(\"sh.600000\",\n",
    "    \"date,code,open,high,low,close,preclose,volume,amount,adjustflag,turn,tradestatus,pctChg,peTTM,pbMRQ,psTTM,pcfNcfTTM,isST\",\n",
    "    start_date='2017-06-01', end_date='2017-12-31', \n",
    "    frequency=\"d\", adjustflag=\"3\") #frequency=\"d\"取日k线，adjustflag=\"3\"默认不复权\n",
    "print('query_history_k_data_plus respond error_code:'+rs.error_code)\n",
    "print('query_history_k_data_plus respond  error_msg:'+rs.error_msg)\n",
    "\n",
    "#### 打印结果集 ####\n",
    "data_list = []\n",
    "while (rs.error_code == '0') & rs.next():\n",
    "    # 获取一条记录，将记录合并在一起\n",
    "    data_list.append(rs.get_row_data())\n",
    "result = pd.DataFrame(data_list, columns=rs.fields)\n",
    "#### 结果集输出到csv文件 ####\n",
    "#result.to_csv(\"D:/history_k_data.csv\", encoding=\"gbk\", index=False)\n",
    "print(result)\n",
    "\n",
    "#### 登出系统 ####\n",
    "bs.logout()"
   ]
  },
  {
   "cell_type": "markdown",
   "metadata": {},
   "source": [
    "## 证券基本资料：query_stock_basic()\n",
    "\n",
    "#### 参数含义：\n",
    "\n",
    "* code：A股股票代码，sh或sz.+6位数字代码，或者指数代码，如：sh.601398。sh：上海；sz：深圳。可以为空；\n",
    "* code_name：股票名称，支持模糊查询，可以为空。\n",
    "\n",
    "* code\t证券代码\n",
    "* code_name\t证券名称\n",
    "* ipoDate\t上市日期\n",
    "* outDate\t退市日期\n",
    "* type\t证券类型，其中1：股票，2：指数,3：其它\n",
    "* status\t上市状态，其中1：上市，0：退市\n"
   ]
  },
  {
   "cell_type": "code",
   "execution_count": 3,
   "metadata": {
    "tags": []
   },
   "outputs": [
    {
     "output_type": "stream",
     "name": "stdout",
     "text": "login success!\nlogin respond error_code:0\nlogin respond  error_msg:success\nquery_stock_basic respond error_code:0\nquery_stock_basic respond  error_msg:success\n        code code_name     ipoDate outDate type status\n0  sh.600000      浦发银行  1999-11-10            1      1\nlogout success!\n"
    },
    {
     "output_type": "execute_result",
     "data": {
      "text/plain": "<baostock.data.resultset.ResultData at 0x212ebffbc18>"
     },
     "metadata": {},
     "execution_count": 3
    }
   ],
   "source": [
    "import baostock as bs\n",
    "import pandas as pd\n",
    "\n",
    "# 登陆系统\n",
    "lg = bs.login()\n",
    "# 显示登陆返回信息\n",
    "print('login respond error_code:'+lg.error_code)\n",
    "print('login respond  error_msg:'+lg.error_msg)\n",
    "\n",
    "# 获取证券基本资料\n",
    "#rs = bs.query_stock_basic(code=\"sh.600000\")\n",
    "rs = bs.query_stock_basic(code_name=\"浦发银行\")  # 支持模糊查询\n",
    "print('query_stock_basic respond error_code:'+rs.error_code)\n",
    "print('query_stock_basic respond  error_msg:'+rs.error_msg)\n",
    "\n",
    "# 打印结果集\n",
    "data_list = []\n",
    "while (rs.error_code == '0') & rs.next():\n",
    "    # 获取一条记录，将记录合并在一起\n",
    "    data_list.append(rs.get_row_data())\n",
    "result = pd.DataFrame(data_list, columns=rs.fields)\n",
    "# 结果集输出到csv文件\n",
    "#result.to_csv(\"D:/stock_basic.csv\", encoding=\"gbk\", index=False)\n",
    "print(result)\n",
    "\n",
    "# 登出系统\n",
    "bs.logout()"
   ]
  },
  {
   "cell_type": "markdown",
   "metadata": {},
   "source": [
    "### 获取历史A股K线数据：query_history_k_data_plus()"
   ]
  },
  {
   "cell_type": "code",
   "execution_count": 19,
   "metadata": {
    "tags": []
   },
   "outputs": [
    {
     "output_type": "stream",
     "name": "stdout",
     "text": "login success!\nlogin respond error_code:0\nlogin respond  error_msg:success\nquery_history_k_data_plus respond error_code:0\nquery_history_k_data_plus respond  error_msg:success\n            date               time     open     high      low    close\n0     2020-08-03  20200803093500000  10.4000  10.4800  10.4000  10.4600\n1     2020-08-03  20200803094000000  10.4400  10.4800  10.4300  10.4500\n2     2020-08-03  20200803094500000  10.4600  10.4700  10.4400  10.4500\n3     2020-08-03  20200803095000000  10.4500  10.4700  10.4400  10.4400\n4     2020-08-03  20200803095500000  10.4500  10.4500  10.4300  10.4500\n...          ...                ...      ...      ...      ...      ...\n1099  2020-09-02  20200902144000000  10.2000  10.2100  10.1700  10.1800\n1100  2020-09-02  20200902144500000  10.1700  10.1900  10.1600  10.1800\n1101  2020-09-02  20200902145000000  10.1700  10.2000  10.1700  10.1900\n1102  2020-09-02  20200902145500000  10.1800  10.1900  10.1700  10.1700\n1103  2020-09-02  20200902150000000  10.1800  10.1800  10.1700  10.1800\n\n[1104 rows x 6 columns]\nlogout success!\n"
    },
    {
     "output_type": "execute_result",
     "data": {
      "text/plain": "<baostock.data.resultset.ResultData at 0x212ed1e1c50>"
     },
     "metadata": {},
     "execution_count": 19
    }
   ],
   "source": [
    "import baostock as bs\n",
    "import pandas as pd\n",
    "\n",
    "#### 登陆系统 ####\n",
    "lg = bs.login()\n",
    "# 显示登陆返回信息\n",
    "print('login respond error_code:'+lg.error_code)\n",
    "print('login respond  error_msg:'+lg.error_msg)\n",
    "\n",
    "#### 获取沪深A股历史K线数据 ####\n",
    "# 详细指标参数，参见“历史行情指标参数”章节；“分钟线”参数与“日线”参数不同。\n",
    "# 分钟线指标：date,time,code,open,high,low,close,volume,amount,adjustflag\n",
    "# 周月线指标：date,code,open,high,low,close,volume,amount,adjustflag,turn,pctChg\n",
    "rs = bs.query_history_k_data_plus(\"sh.600000\",\n",
    "    \"date,time,open,high,low,close\",\n",
    "    start_date='2020-08-01', #end_date='2020-12-31',\n",
    "    frequency='5', adjustflag=\"3\")\n",
    "print('query_history_k_data_plus respond error_code:'+rs.error_code)\n",
    "print('query_history_k_data_plus respond  error_msg:'+rs.error_msg)\n",
    "\n",
    "#### 打印结果集 ####\n",
    "data_list = []\n",
    "while (rs.error_code == '0') & rs.next():\n",
    "    # 获取一条记录，将记录合并在一起\n",
    "    data_list.append(rs.get_row_data())\n",
    "result = pd.DataFrame(data_list, columns=rs.fields)\n",
    "\n",
    "#### 结果集输出到csv文件 ####   \n",
    "#result.to_csv(\"D:\\\\history_A_stock_k_data.csv\", index=False)\n",
    "print(result)\n",
    "\n",
    "#### 登出系统 ####\n",
    "bs.logout()"
   ]
  },
  {
   "cell_type": "code",
   "execution_count": 14,
   "metadata": {},
   "outputs": [
    {
     "output_type": "execute_result",
     "data": {
      "text/plain": "[]"
     },
     "metadata": {},
     "execution_count": 14
    }
   ],
   "source": [
    "rs.get_row_data()"
   ]
  },
  {
   "cell_type": "code",
   "execution_count": 16,
   "metadata": {},
   "outputs": [
    {
     "output_type": "execute_result",
     "data": {
      "text/plain": "Empty DataFrame\nColumns: []\nIndex: []",
      "text/html": "<div>\n<style scoped>\n    .dataframe tbody tr th:only-of-type {\n        vertical-align: middle;\n    }\n\n    .dataframe tbody tr th {\n        vertical-align: top;\n    }\n\n    .dataframe thead th {\n        text-align: right;\n    }\n</style>\n<table border=\"1\" class=\"dataframe\">\n  <thead>\n    <tr style=\"text-align: right;\">\n      <th></th>\n    </tr>\n  </thead>\n  <tbody>\n  </tbody>\n</table>\n</div>"
     },
     "metadata": {},
     "execution_count": 16
    }
   ],
   "source": [
    "result"
   ]
  },
  {
   "cell_type": "code",
   "execution_count": 4,
   "metadata": {
    "tags": []
   },
   "outputs": [
    {
     "output_type": "stream",
     "name": "stdout",
     "text": "   1   2\n0  1  10\n1  2  11\n2  3  12\n3  4  13\n---------------\n   1   2  calc\n0  1  10     1\n1  2  11     2\n2  3  12     3\n3  4  13    13\n"
    }
   ],
   "source": [
    "import pandas as pd\n",
    "def ff(x):\n",
    "    if x[\"1\"] < 4:\n",
    "        return x[\"1\"]\n",
    "    return x[\"2\"]\n",
    "\n",
    "    pass\n",
    "dd = pd.DataFrame()\n",
    "df = pd.DataFrame({\"1\": [1, 2, 3,4], \"2\": [10, 11, 12,13]})\n",
    "print(df)\n",
    "\n",
    "print(\"---------------\")\n",
    "rr = df.apply(lambda x: ff(x), axis=1)\n",
    "df[\"calc\"] = rr\n",
    "\n",
    "print(df)"
   ]
  },
  {
   "cell_type": "code",
   "execution_count": null,
   "metadata": {},
   "outputs": [],
   "source": []
  }
 ]
}