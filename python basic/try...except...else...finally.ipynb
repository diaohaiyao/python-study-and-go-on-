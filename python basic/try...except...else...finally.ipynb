{
 "cells": [
  {
   "cell_type": "markdown",
   "metadata": {},
   "source": [
    "![](pic\\unusual.png)"
   ]
  },
  {
   "cell_type": "markdown",
   "metadata": {},
   "source": [
    "![](pic\\try_except.png)"
   ]
  },
  {
   "cell_type": "markdown",
   "metadata": {},
   "source": [
    "### try 语句按照如下方式工作；\n",
    "\n",
    "首先，执行 try 子句（在关键字 try 和关键字 except 之间的语句）。\n",
    "如果没有异常发生，忽略 except 子句，try 子句执行后结束。（\b会跳到 else）\n",
    "\n",
    "如果在执行 try 子句的过程中发生了异常，那么 try 子句余下的部分将被忽略。如果异常的类型和 except 之后的名称相符，那么对应的 except 子句将被执行。\n",
    "\n",
    "如果一个异常没有与任何的 excep 匹配，那么这个异常将会传递给上层的 try 中。\n",
    "\n",
    "一个 try 语句可能包含多个except子句，分别来处理不同的特定的异常。最多只有一个分支会被执行。\n",
    "\n",
    "处理程序将只针对对应的 try 子句中的异常进行处理，而不是其他的 try 的处理程序中的异常。\n",
    "\n",
    "一个except子句可以同时处理多个异常，这些异常将被放在一个括号里成为一个元组，例如:\n",
    "```\n",
    "except (RuntimeError, TypeError, NameError):\n",
    "    pass\n",
    "```"
   ]
  },
  {
   "cell_type": "markdown",
   "metadata": {},
   "source": [
    "## \bexcept分支：\n",
    "*用于捕获异常，格式是：except + 异常名。\n",
    "如：\n",
    "'''\n",
    "except HTTPError:\n",
    "```\n",
    "当 try 中出现 HTTPError 异常时，except 后的语句被执行。"
   ]
  },
  {
   "cell_type": "code",
   "execution_count": 21,
   "metadata": {},
   "outputs": [
    {
     "output_type": "stream",
     "name": "stdout",
     "text": "invalid literal for int() with base 10: 'a'\n"
    }
   ],
   "source": [
    "try:\n",
    "    a=input(\"请输入整数0：\")\n",
    "    if int(a)==0:\n",
    "        print(\"www.qingsword.com\")\n",
    "    elif int(a)>0:\n",
    "        print(\"a大于0\")\n",
    "    else:\n",
    "        print(\"a小于0\")\n",
    "except ValueError as err:\n",
    "    print(err)\n",
    "\n",
    "#这是一个简单的小程序，try...except语句用于捕获代码运行时的异常，也就是说，如果try中包含的语句执行出错，会跳转到except分支去匹配异常类型，本例仅提供了一种错误类型，即ValueError异常，当用户输入了一个非数字的时候，int(a)转换函数会抛出这个异常，这个异常会被print(err)语句打印在屏幕上，err是自定义的变量名，相当于ValueError异常信息的一个引用\n"
   ]
  },
  {
   "cell_type": "markdown",
   "metadata": {},
   "source": [
    "## else分支：\n",
    "* 异常处理的else分支是可选的；\n",
    "* 如果要出现else分支，必须在所有except分支之后；\n",
    "* 异常处理的else分支不一定会执行，只有在没有发生异常的情况下，才会执行else分支，如果真的发生了异常，else分支就不再执行；\n",
    "\n",
    "**有异常，进入except，没异常，进入else。try...语句后面不能直接跟else，必须要有except分支。**\n",
    "![](pic\\try_exc_else.png)\n",
    "\n",
    "使用 else 子句比把所有的语句都放在 try 子句里面要好，这样可以避免一些意想不到，而 except 又无法捕获的异常。\n",
    "\n",
    "异常处理并不仅仅处理那些直接发生在 try 子句中的异常，而且还能处理子句中调用的函数（甚至间接调用的函数）里抛出的异常。例如:"
   ]
  },
  {
   "cell_type": "code",
   "execution_count": 1,
   "metadata": {},
   "outputs": [
    {
     "output_type": "stream",
     "name": "stdout",
     "text": "Handling run-time error: division by zero\n"
    }
   ],
   "source": [
    "def this_fails():\n",
    "        x = 1/0\n",
    "   \n",
    "try:\n",
    "        this_fails()\n",
    "except ZeroDivisionError as err:\n",
    "        print('Handling run-time error:', err)"
   ]
  },
  {
   "cell_type": "markdown",
   "metadata": {},
   "source": [
    "## finally分支：\n",
    "\n",
    "* finally分支总是会被执行，不管有无异常发生；\n",
    "* 如果异常没有被except分支捕获，或者异常发生在except或else分支内，finally分支执行完毕后，会将此异常抛出；\n",
    "* 如果在try语句块内（包括except和else分支），有return，break，continue等语句导致离开，finally分支依然会被执行；\n",
    "\n",
    "* 如果一个异常在 try 子句里（或者在 except 和 else 子句里）被抛出，而又没有任何的 except 把它截住，那么这个异常会在 finally 子句执行后被抛出。\n",
    "\n",
    "**无论如何，finally分支都会被执行。try...语句后面，可以直接跟finally，可以没有except分支。**\n",
    "![](pic\\try_final.png)"
   ]
  },
  {
   "cell_type": "markdown",
   "metadata": {},
   "source": [
    "try:\n",
    "\n",
    "<语句>        #运行别的代码\n",
    "\n",
    "except <名字>：\n",
    "\n",
    "<语句>        #如果在try部份引发了'name'异常\n",
    "\n",
    "except <名字>，<数据>:\n",
    "\n",
    "<语句>        #如果引发了'name'异常，获得附加的数据\n",
    "\n",
    "else:\n",
    "\n",
    "<语句>        #如果没有异常发生\n"
   ]
  },
  {
   "cell_type": "code",
   "execution_count": 6,
   "metadata": {},
   "outputs": [
    {
     "output_type": "stream",
     "name": "stdout",
     "text": "result is 2.0\nexecuting finally clause\nNone\n~~~~~~~~~~~~~~~~~~~~~\n# no exception, run else\n# run finally after else\n~~~~~~~~~~~~~~~~~~~~~\ndivision by zero!\nexecuting finally clause\nNone\n~~~~~~~~~~~~~~~~~~~~~\n# catch exception, no else anymore!!\n# run finally after except\n~~~~~~~~~~~~~~~~~~~~~\nexecuting finally clause\n"
    },
    {
     "output_type": "error",
     "ename": "TypeError",
     "evalue": "unsupported operand type(s) for /: 'str' and 'str'",
     "traceback": [
      "\u001b[0;31m---------------------------------------------------------------------------\u001b[0m",
      "\u001b[0;31mTypeError\u001b[0m                                 Traceback (most recent call last)",
      "\u001b[0;32m<ipython-input-6-82114ae31dce>\u001b[0m in \u001b[0;36m<module>\u001b[0;34m\u001b[0m\n\u001b[1;32m     19\u001b[0m \u001b[0mprint\u001b[0m\u001b[0;34m(\u001b[0m\u001b[0;34m'# run finally after except'\u001b[0m\u001b[0;34m)\u001b[0m\u001b[0;34m\u001b[0m\u001b[0;34m\u001b[0m\u001b[0m\n\u001b[1;32m     20\u001b[0m \u001b[0mprint\u001b[0m\u001b[0;34m(\u001b[0m\u001b[0;34m'~~~~~~~~~~~~~~~~~~~~~'\u001b[0m\u001b[0;34m)\u001b[0m\u001b[0;34m\u001b[0m\u001b[0;34m\u001b[0m\u001b[0m\n\u001b[0;32m---> 21\u001b[0;31m \u001b[0mprint\u001b[0m\u001b[0;34m(\u001b[0m\u001b[0mdivide\u001b[0m\u001b[0;34m(\u001b[0m\u001b[0;34m\"2\"\u001b[0m\u001b[0;34m,\u001b[0m \u001b[0;34m\"1\"\u001b[0m\u001b[0;34m)\u001b[0m\u001b[0;34m)\u001b[0m\u001b[0;34m\u001b[0m\u001b[0;34m\u001b[0m\u001b[0m\n\u001b[0m\u001b[1;32m     22\u001b[0m \u001b[0mprint\u001b[0m\u001b[0;34m(\u001b[0m\u001b[0;34m'~~~~~~~~~~~~~~~~~~~~~'\u001b[0m\u001b[0;34m)\u001b[0m\u001b[0;34m\u001b[0m\u001b[0;34m\u001b[0m\u001b[0m\n\u001b[1;32m     23\u001b[0m \u001b[0mprint\u001b[0m\u001b[0;34m(\u001b[0m\u001b[0;34m'# exception hasn\\'t been catched, but'\u001b[0m\u001b[0;34m)\u001b[0m\u001b[0;34m\u001b[0m\u001b[0;34m\u001b[0m\u001b[0m\n",
      "\u001b[0;32m<ipython-input-6-82114ae31dce>\u001b[0m in \u001b[0;36mdivide\u001b[0;34m(x, y)\u001b[0m\n\u001b[1;32m      1\u001b[0m \u001b[0;32mdef\u001b[0m \u001b[0mdivide\u001b[0m\u001b[0;34m(\u001b[0m\u001b[0mx\u001b[0m\u001b[0;34m,\u001b[0m \u001b[0my\u001b[0m\u001b[0;34m)\u001b[0m\u001b[0;34m:\u001b[0m\u001b[0;34m\u001b[0m\u001b[0;34m\u001b[0m\u001b[0m\n\u001b[1;32m      2\u001b[0m     \u001b[0;32mtry\u001b[0m\u001b[0;34m:\u001b[0m\u001b[0;34m\u001b[0m\u001b[0;34m\u001b[0m\u001b[0m\n\u001b[0;32m----> 3\u001b[0;31m         \u001b[0mresult\u001b[0m \u001b[0;34m=\u001b[0m \u001b[0mx\u001b[0m \u001b[0;34m/\u001b[0m \u001b[0my\u001b[0m\u001b[0;34m\u001b[0m\u001b[0;34m\u001b[0m\u001b[0m\n\u001b[0m\u001b[1;32m      4\u001b[0m     \u001b[0;32mexcept\u001b[0m \u001b[0mZeroDivisionError\u001b[0m\u001b[0;34m:\u001b[0m\u001b[0;34m\u001b[0m\u001b[0;34m\u001b[0m\u001b[0m\n\u001b[1;32m      5\u001b[0m         \u001b[0mprint\u001b[0m\u001b[0;34m(\u001b[0m\u001b[0;34m\"division by zero!\"\u001b[0m\u001b[0;34m)\u001b[0m\u001b[0;34m\u001b[0m\u001b[0;34m\u001b[0m\u001b[0m\n",
      "\u001b[0;31mTypeError\u001b[0m: unsupported operand type(s) for /: 'str' and 'str'"
     ]
    }
   ],
   "source": [
    "def divide(x, y):\n",
    "    try:\n",
    "        result = x / y\n",
    "    except ZeroDivisionError:\n",
    "        print(\"division by zero!\")\n",
    "    else:\n",
    "        print(\"result is\", result)\n",
    "    finally:\n",
    "        print(\"executing finally clause\")\n",
    "\n",
    "print(divide(2, 1))\n",
    "print('~~~~~~~~~~~~~~~~~~~~~')\n",
    "print('# no exception, run else')\n",
    "print('# run finally after else')\n",
    "print('~~~~~~~~~~~~~~~~~~~~~')\n",
    "print(divide(2, 0))\n",
    "print('~~~~~~~~~~~~~~~~~~~~~')\n",
    "print('# catch exception, no else anymore!!')\n",
    "print('# run finally after except')\n",
    "print('~~~~~~~~~~~~~~~~~~~~~')\n",
    "print(divide(\"2\", \"1\"))\n",
    "print('~~~~~~~~~~~~~~~~~~~~~')\n",
    "print('# exception hasn\\'t been catched, but')\n",
    "print('# exception occured, so no else, only finally, then raise exception.')"
   ]
  },
  {
   "cell_type": "code",
   "execution_count": 7,
   "metadata": {},
   "outputs": [
    {
     "output_type": "stream",
     "name": "stdout",
     "text": "0\nfinally...\nfinally...\n2\nfinally...\nfinally...\n4\nfinally...\nfinally...\n6\nfinally...\nfinally...\n8\nfinally...\nfinally...\n"
    }
   ],
   "source": [
    "#一个在循环冲continue的case，这次try后面直接跟finally：\n",
    "#循环中只打印偶数，但是不管是否是偶数，在continue进入下一次循环之前，finally都会被执行。\n",
    "for i in range(10):\n",
    "    try:\n",
    "        if i%2 == 0: print(i)\n",
    "        else: continue\n",
    "    finally:\n",
    "        print('finally...')"
   ]
  },
  {
   "cell_type": "markdown",
   "metadata": {},
   "source": [
    "### Python异常处理 -跳过异常继续执行"
   ]
  },
  {
   "cell_type": "code",
   "execution_count": 18,
   "metadata": {},
   "outputs": [
    {
     "output_type": "stream",
     "name": "stdout",
     "text": "245\n"
    }
   ],
   "source": [
    "import pandas as pd\n",
    "dates=range(20,30)\n",
    "pieces=[]\n",
    "for data in dates:\n",
    "    try:\n",
    "        pieces.append(data)\n",
    "        raise RuntimeError  \n",
    "    except RuntimeError as err_come:\n",
    "        #print(str(err_come))\n",
    "        pass\n",
    "    continue\n",
    "print(sum(pieces))"
   ]
  },
  {
   "cell_type": "code",
   "execution_count": 22,
   "metadata": {},
   "outputs": [
    {
     "output_type": "stream",
     "name": "stdout",
     "text": "52\n5\n4\n3\n2\n1\n"
    }
   ],
   "source": [
    "#导入python自带的随机数生成器\n",
    "import random\n",
    " \n",
    "#while后的条件为True就会一直循环\n",
    "while True:\n",
    "    #随机生成1到100中的一个数字\n",
    "    i=random.randint(1,100)\n",
    "    #如果这个数字小于50，continue语句会让流程跳转到while开始处继续循环\n",
    "    if i<50:\n",
    "        continue\n",
    "    #如果大于等于50，打印出这个数字，break语句会终止并跳出循环\n",
    "    print(i)\n",
    "    break\n",
    " \n",
    "#另一个while循环实例，num会从5递减，直到0时num大于0为假，终止循环\n",
    "num=5\n",
    "while num>0:\n",
    "    print(num)\n",
    "    num-=1\n"
   ]
  },
  {
   "cell_type": "markdown",
   "metadata": {},
   "source": [
    "我们注意到上面的程序在除错后就直接终止了，但实际情况中我们可能需要记录并打印出这些错误信息，但仍然让程序继续运行直到结束，可以使用日志记录模块logging来完成这些操作，修改上面的程序如下："
   ]
  },
  {
   "cell_type": "code",
   "execution_count": 1,
   "metadata": {},
   "outputs": [
    {
     "output_type": "stream",
     "name": "stderr",
     "text": "ERROR:root:division by zero\nTraceback (most recent call last):\n  File \"<ipython-input-1-e987c8d8117e>\", line 14, in C\n    B(0)\n  File \"<ipython-input-1-e987c8d8117e>\", line 10, in B\n    return A(x)*2\n  File \"<ipython-input-1-e987c8d8117e>\", line 7, in A\n    return x/0\nZeroDivisionError: division by zero\nend\n"
    }
   ],
   "source": [
    "#!/usr/bin/env python3\n",
    "#coding=utf-8\n",
    "\n",
    "import logging #引入日志模块\n",
    "\n",
    "def A(x):\n",
    "    return x/0\n",
    "\n",
    "def B(x):\n",
    "    return A(x)*2\n",
    "\n",
    "def C():\n",
    "    try:\n",
    "        B(0)\n",
    "    except Exception as err:\n",
    "        logging.exception(err)  #记录并打印捕获到的错误\n",
    " \n",
    "C()\n",
    "print(\"end\")\n",
    "#将logging.exception写在except中能够记录并打印出错误日志，输出这些错误日志信息后，程序会继续执行，最后打印出end（日志记录模块比print更加详细的记录了错误的调用步骤，让我们能够明白错误的源头在哪里，如果只是print(err)就只会打印出division by zero），下面是程序输出"
   ]
  },
  {
   "cell_type": "markdown",
   "metadata": {},
   "source": [
    "### 万能异常 ： Exception 可以捕获任意异常。\n",
    "\n",
    "什么时候使用万能异常呢？\n",
    "\n",
    "1、如果无论出现什么异常，我们统一丢弃，或者使用同一处理方式去处理这些异常，那么用Exception就足够了。\n",
    "\n",
    "```\n",
    "try:\n",
    "    代码块\n",
    "except Exception:\n",
    "    异常解决办法\n",
    "```\n",
    "\n",
    "2、如果对于不同的异常呦不同的处理方式，那就需要用到多分支。\n",
    "\n",
    "当然，还可以使用多分支+万能异常来处理异常。使用多分支优先处理一些能预料到的错误类型，一些预料不到的错误类型被最终的万能异常捕获。\n",
    "\n",
    "TIPS：万能异常一定要放在最后，否则就没有意义了。\n",
    "\n",
    "```\n",
    "try:\n",
    "    代码块\n",
    "except 异常1:\n",
    "    异常1的解决办法\n",
    "except 异常2:\n",
    "    异常2的解决办法\n",
    "except Exception:\n",
    "    剩余的其他异常解决办法\n",
    "```"
   ]
  },
  {
   "cell_type": "markdown",
   "metadata": {},
   "source": [
    "### 自定义异常类\n",
    "\n",
    "以上代码，从Exception类继承一个自定义异常类ReplyError。一般都是从Exception类继承，这是Python常规错误的基类。Python中所有异常类的积累，是BaseException。\n",
    "\n",
    "我们自定义的这个ReplyError，实现了3个函数，__init__初始化，__str__用于str()函数，__repr__用于repr()函数。请参考str与repr函数的区别。\n",
    "\n",
    "这样就算完成了自定义异常类，在代码中，就可以直接使用ReplyError了。"
   ]
  },
  {
   "cell_type": "code",
   "execution_count": 2,
   "metadata": {},
   "outputs": [
    {
     "output_type": "stream",
     "name": "stdout",
     "text": "test customized exception class\nReplyError(test customized exception class)\n"
    }
   ],
   "source": [
    "class ReplyError(Exception):\n",
    "    \"\"\"Exception for receiving wrong reply\"\"\"\n",
    "\n",
    "    def __init__(self, msg=None):\n",
    "        self.msg = msg\n",
    "\n",
    "    def __str__(self):\n",
    "        return str(self.msg)\n",
    "\n",
    "    def __repr__(self):\n",
    "        return 'ReplyError('+str(self.msg)+')'\n",
    "\n",
    "try:\n",
    "    raise ReplyError('test customized exception class')\n",
    "except ReplyError as e:\n",
    "    print(str(e))\n",
    "    print(repr(e))"
   ]
  },
  {
   "cell_type": "markdown",
   "metadata": {},
   "source": [
    "大家可能注意到了我们捕获的不同错误都有错误名称，这些名称在Python中是分层设计的（错误其实也是类，所有的错误类型都继承自BaseException），不同的错误有它们的父类和子类，父类的捕获优先级高于子类，也就意味着我们在except中如果设置了一个父类的名称，那么它将捕获所有子类错误，而再写一个except捕获它的子类就没有意义了，也不永远不会被执行，下面这个列表列出了所有的错误类，缩进的是子类，通过这个列表不难看出，为什么在上面的实例中通过捕获Exception错误就能捕获到ZeroDivisionError错误，因为ZeroDivisionError是Exception的子类：\n",
    "\n",
    "\n",
    "BaseException\n",
    "\n",
    " +-- SystemExit\n",
    "\n",
    " +-- KeyboardInterrupt\n",
    "\n",
    " +-- GeneratorExit\n",
    "\n",
    " +-- Exception\n",
    "\n",
    "      +-- StopIteration\n",
    "\n",
    "      +-- StopAsyncIteration\n",
    "\n",
    "      +-- ArithmeticError\n",
    "\n",
    "      |    +-- FloatingPointError\n",
    "\n",
    "      |    +-- OverflowError\n",
    "\n",
    "      |    +-- ZeroDivisionError\n",
    "\n",
    "      +-- AssertionError\n",
    "\n",
    "      +-- AttributeError\n",
    "\n",
    "      +-- BufferError\n",
    "\n",
    "      +-- EOFError\n",
    "\n",
    "      +-- ImportError\n",
    "\n",
    "      +-- LookupError\n",
    "      |    +-- IndexError\n",
    "      |    +-- KeyError\n",
    "      +-- MemoryError\n",
    "      +-- NameError\n",
    "      |    +-- UnboundLocalError\n",
    "      +-- OSError\n",
    "      |    +-- BlockingIOError\n",
    "      |    +-- ChildProcessError\n",
    "      |    +-- ConnectionError\n",
    "      |    |    +-- BrokenPipeError\n",
    "      |    |    +-- ConnectionAbortedError\n",
    "      |    |    +-- ConnectionRefusedError\n",
    "      |    |    +-- ConnectionResetError\n",
    "      |    +-- FileExistsError\n",
    "      |    +-- FileNotFoundError\n",
    "      |    +-- InterruptedError\n",
    "      |    +-- IsADirectoryError\n",
    "      |    +-- NotADirectoryError\n",
    "      |    +-- PermissionError\n",
    "      |    +-- ProcessLookupError\n",
    "      |    +-- TimeoutError\n",
    "      +-- ReferenceError\n",
    "      +-- RuntimeError\n",
    "      |    +-- NotImplementedError\n",
    "      |    +-- RecursionError\n",
    "      +-- SyntaxError\n",
    "      |    +-- IndentationError\n",
    "      |         +-- TabError\n",
    "      +-- SystemError\n",
    "      +-- TypeError\n",
    "      +-- ValueError\n",
    "      |    +-- UnicodeError\n",
    "      |         +-- UnicodeDecodeError\n",
    "      |         +-- UnicodeEncodeError\n",
    "      |         +-- UnicodeTranslateError\n",
    "      +-- Warning\n",
    "           +-- DeprecationWarning\n",
    "\n",
    "           +-- PendingDeprecationWarning\n",
    "\n",
    "           +-- RuntimeWarning\n",
    "\n",
    "           +-- SyntaxWarning\n",
    "           \n",
    "           +-- UserWarning\n",
    "           +-- FutureWarning\n",
    "           +-- ImportWarning\n",
    "           +-- UnicodeWarning\n",
    "           +-- BytesWarning\n",
    "           +-- ResourceWarning\n"
   ]
  },
  {
   "cell_type": "code",
   "execution_count": null,
   "metadata": {},
   "outputs": [],
   "source": []
  },
  {
   "cell_type": "code",
   "execution_count": null,
   "metadata": {},
   "outputs": [],
   "source": []
  },
  {
   "cell_type": "code",
   "execution_count": null,
   "metadata": {},
   "outputs": [],
   "source": []
  },
  {
   "cell_type": "code",
   "execution_count": null,
   "metadata": {},
   "outputs": [],
   "source": []
  },
  {
   "cell_type": "code",
   "execution_count": null,
   "metadata": {},
   "outputs": [],
   "source": []
  },
  {
   "cell_type": "code",
   "execution_count": null,
   "metadata": {},
   "outputs": [],
   "source": []
  },
  {
   "cell_type": "code",
   "execution_count": null,
   "metadata": {},
   "outputs": [],
   "source": []
  },
  {
   "cell_type": "code",
   "execution_count": null,
   "metadata": {},
   "outputs": [],
   "source": []
  }
 ],
 "metadata": {
  "language_info": {
   "codemirror_mode": {
    "name": "ipython",
    "version": 3
   },
   "file_extension": ".py",
   "mimetype": "text/x-python",
   "name": "python",
   "nbconvert_exporter": "python",
   "pygments_lexer": "ipython3",
   "version": "3.7.4-final"
  },
  "orig_nbformat": 2,
  "kernelspec": {
   "name": "python3",
   "display_name": "Python 3"
  }
 },
 "nbformat": 4,
 "nbformat_minor": 2
}