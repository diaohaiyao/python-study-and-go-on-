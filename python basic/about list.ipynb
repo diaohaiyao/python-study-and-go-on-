{
 "cells": [
  {
   "cell_type": "markdown",
   "metadata": {},
   "source": [
    "## # 提取列表内大于阈值提取位置"
   ]
  },
  {
   "cell_type": "code",
   "execution_count": 2,
   "metadata": {
    "tags": []
   },
   "outputs": [
    {
     "name": "stdout",
     "output_type": "stream",
     "text": [
      "[[0 0 0 0 0 1 2]\n",
      " [1 2 2 0 0 1 2]] \n",
      " [[False False False False False  True  True]\n",
      " [ True  True  True False False  True  True]] \n",
      " (array([0, 0, 1, 1, 1, 1, 1]), array([5, 6, 0, 1, 2, 5, 6])) \n",
      " [1 2 1 2 2 1 2]\n"
     ]
    }
   ],
   "source": [
    "# 提取列表内大于阈值提取位置\n",
    "\n",
    "import numpy as np\n",
    "probs = np.array([[0, 0, 0, 0, 0, 1, 2], [1, 2, 2, 0, 0, 1, 2]])\n",
    "a = np.array(probs >= 1, dtype='bool')\n",
    "c = np.nonzero(a)\n",
    "b = probs[a]\n",
    "print(probs, '\\n',a, '\\n', c, '\\n', b,)"
   ]
  },
  {
   "cell_type": "markdown",
   "metadata": {},
   "source": [
    "## python对list中的每个元素进行某种操作"
   ]
  },
  {
   "cell_type": "code",
   "execution_count": 5,
   "metadata": {},
   "outputs": [
    {
     "name": "stdout",
     "output_type": "stream",
     "text": [
      "[11, 13, 14, 15, 16]\n",
      "[1, 9, 16, 25, 36]\n",
      "[11, 13, 14, 15, 16]\n"
     ]
    }
   ],
   "source": [
    "def add(x):\n",
    "    x = x + 10 \n",
    "    return x\n",
    "\n",
    "a = [1,3,4,5,6]\n",
    "\n",
    "# 方法一 :\n",
    "a1 = map(add, a)\n",
    "print(list(a1))\n",
    "\n",
    "# 方法 二 :\n",
    "a2 = [x**2 for x in a]\n",
    "print(a2)\n",
    "\n",
    "a3 = [add(x) for x in a]\n",
    "print(a3)"
   ]
  },
  {
   "cell_type": "markdown",
   "metadata": {},
   "source": [
    "## list 删除元素\n",
    "### 使用 del 删除指定元素"
   ]
  },
  {
   "cell_type": "code",
   "execution_count": 2,
   "metadata": {},
   "outputs": [
    {
     "name": "stdout",
     "output_type": "stream",
     "text": [
      "['A', 'B', 'D']\n"
     ]
    }
   ],
   "source": [
    " li = ['A', 'B', 'C', 'D']\n",
    " del li[2]\n",
    " print(li)"
   ]
  },
  {
   "cell_type": "markdown",
   "metadata": {},
   "source": [
    "使用 list 方法 remove 删除指定值的元素\n",
    "\n",
    "可以删除指定元素"
   ]
  },
  {
   "cell_type": "code",
   "execution_count": 8,
   "metadata": {},
   "outputs": [
    {
     "name": "stdout",
     "output_type": "stream",
     "text": [
      "['A', 'B', 'D']\n"
     ]
    }
   ],
   "source": [
    "li = ['A', 'B', 'C', 'D']\n",
    "li.remove('C')\n",
    "print(li)"
   ]
  },
  {
   "cell_type": "markdown",
   "metadata": {},
   "source": [
    "### 使用 pop 删除元素"
   ]
  },
  {
   "cell_type": "code",
   "execution_count": 4,
   "metadata": {},
   "outputs": [
    {
     "name": "stdout",
     "output_type": "stream",
     "text": [
      "['A', 'B', 'D']\n",
      "~~~~~~~~~\n"
     ]
    },
    {
     "ename": "TypeError",
     "evalue": "'str' object cannot be interpreted as an integer",
     "output_type": "error",
     "traceback": [
      "\u001b[0;31m---------------------------------------------------------------------------\u001b[0m",
      "\u001b[0;31mTypeError\u001b[0m                                 Traceback (most recent call last)",
      "\u001b[0;32m<ipython-input-4-3907afc9993f>\u001b[0m in \u001b[0;36m<module>\u001b[0;34m\u001b[0m\n\u001b[1;32m      3\u001b[0m \u001b[0mprint\u001b[0m\u001b[0;34m(\u001b[0m\u001b[0mli\u001b[0m\u001b[0;34m)\u001b[0m\u001b[0;34m\u001b[0m\u001b[0;34m\u001b[0m\u001b[0m\n\u001b[1;32m      4\u001b[0m \u001b[0mprint\u001b[0m\u001b[0;34m(\u001b[0m\u001b[0;34m'~~~~~~~~~'\u001b[0m\u001b[0;34m)\u001b[0m\u001b[0;34m\u001b[0m\u001b[0;34m\u001b[0m\u001b[0m\n\u001b[0;32m----> 5\u001b[0;31m \u001b[0mli\u001b[0m\u001b[0;34m.\u001b[0m\u001b[0mpop\u001b[0m\u001b[0;34m(\u001b[0m\u001b[0;34m'A'\u001b[0m\u001b[0;34m)\u001b[0m\u001b[0;34m\u001b[0m\u001b[0;34m\u001b[0m\u001b[0m\n\u001b[0m",
      "\u001b[0;31mTypeError\u001b[0m: 'str' object cannot be interpreted as an integer"
     ]
    }
   ],
   "source": [
    "\n",
    "li = ['A', 'B', 'C', 'D']\n",
    "li.pop(2)\n",
    "print(li)\n",
    "print('~~~~~~~~~')\n",
    "li.pop('A')"
   ]
  },
  {
   "cell_type": "markdown",
   "metadata": {},
   "source": [
    "### 使用切片删除元素"
   ]
  },
  {
   "cell_type": "code",
   "execution_count": 5,
   "metadata": {},
   "outputs": [
    {
     "name": "stdout",
     "output_type": "stream",
     "text": [
      "['A', 'B', 'D']\n"
     ]
    }
   ],
   "source": [
    "li = ['A', 'B', 'C', 'D']\n",
    "li = li[:2] + li[3:]\n",
    "print(li)"
   ]
  },
  {
   "cell_type": "markdown",
   "metadata": {},
   "source": [
    "### 正确复制裂变的方法"
   ]
  },
  {
   "cell_type": "code",
   "execution_count": 9,
   "metadata": {},
   "outputs": [
    {
     "name": "stdout",
     "output_type": "stream",
     "text": [
      "4570806384 [[10, 11], 20, 21]\n",
      "~~~~~~~~~~\n",
      "4570806304 [[10, 11], 20]\n",
      "~~~~~~~~~~\n",
      "4570851120 [[10, 11], 20]\n",
      "~~~~~~~~~~\n",
      "4570806624 [[10, 11], 20]\n",
      "~~~~~~~~~~\n",
      "4570806464 [[10, 11], 20]\n",
      "~~~~~~~~~~\n",
      "4570806784 [[10], 20]\n",
      "~~~~~~~~~~\n"
     ]
    }
   ],
   "source": [
    "import copy\n",
    "a = [[10], 20]\n",
    "b = a[:]\n",
    "c = list(a)\n",
    "d = a * 1\n",
    "e = copy.copy(a)\n",
    "f = copy.deepcopy(a)\n",
    "a.append(21)\n",
    "a[0].append(11)\n",
    "print( id(a), a)\n",
    "print('~~~~~~~~~~')\n",
    "print( id(b), b)\n",
    "print('~~~~~~~~~~')\n",
    "print (id(c), c)\n",
    "print('~~~~~~~~~~')\n",
    "print (id(d), d)\n",
    "print('~~~~~~~~~~')\n",
    "print (id(e), e)\n",
    "print('~~~~~~~~~~')\n",
    "print (id(f), f)\n",
    "print('~~~~~~~~~~')"
   ]
  },
  {
   "cell_type": "markdown",
   "metadata": {},
   "source": [
    "从以上可以看出，使用 a[:], list(a), a*1, copy.copy(a)四种方式复制列表结果都可以得到一个新的列表，但是如果列表中含有列表，所有b, c, d, e四个新列表的子列表都是指引到同一个对象上。只有使用copy.deepcopy(a)方法得到的新列表f才是包括子列表在内的完全复制。"
   ]
  },
  {
   "cell_type": "markdown",
   "metadata": {},
   "source": [
    "### python 如何找出两个list中的相同元素\n",
    "\n",
    "可以bai对第二个list的元素进行遍历，检查是否出现在du第二个zhilist当中，如果使用表理dao解，可以使用一行代码完成任务。"
   ]
  },
  {
   "cell_type": "code",
   "execution_count": 18,
   "metadata": {},
   "outputs": [
    {
     "name": "stdout",
     "output_type": "stream",
     "text": [
      "[4, 5]\n",
      "~~~~~~~~~~~~~~~~~~~~\n",
      "{4, 5}\n"
     ]
    }
   ],
   "source": [
    "list1 = [1,2,3,4,5]\n",
    "list2 = [4,5,6,7,8]\n",
    "print([l for l in list1 if l in list2])\n",
    "# [4,5]\n",
    "print('~~~~~~~~~~~~~~~~~~~~')\n",
    "# 如果每一个列表中均没有重复的元素，那么还有另外一种更好的办法。首先把两个list转换成set，然后对两个set取交集，即可得到两个list的重复元素。\n",
    "\n",
    "set1 = set(list1)\n",
    "set2 = set(list2)\n",
    "print(set1 & set2)"
   ]
  },
  {
   "cell_type": "markdown",
   "metadata": {},
   "source": [
    "### python 两个list 求交集，并集，差集"
   ]
  },
  {
   "cell_type": "code",
   "execution_count": 1,
   "metadata": {},
   "outputs": [
    {
     "name": "stdout",
     "output_type": "stream",
     "text": [
      "retA is:  [3, 4, 5]\n",
      "retB is:  [3, 4, 5]\n",
      "retC1 is:  [1, 2, 3, 4, 5, 6, 7]\n",
      "retD is:  [6, 7]\n",
      "retE is:  [6, 7]\n"
     ]
    }
   ],
   "source": [
    "def diff(listA,listB):\n",
    "    #求交集的两种方式\n",
    "    retA = [i for i in listA if i in listB]\n",
    "    retB = list(set(listA).intersection(set(listB)))\n",
    "\n",
    "    print(\"retA is: \",retA)\n",
    "    print(\"retB is: \",retB)\n",
    "\n",
    "    #求并集\n",
    "    retC = list(set(listA).union(set(listB)))\n",
    "    print (\"retC1 is: \",retC)\n",
    "\n",
    "    #求差集，在B中但不在A中\n",
    "    retD = list(set(listB).difference(set(listA)))\n",
    "    print (\"retD is: \",retD)\n",
    "\n",
    "    retE = [i for i in listB if i not in listA]\n",
    "    print (\"retE is: \",retE)\n",
    "\n",
    "def main():\n",
    "    listA = [1,2,3,4,5]\n",
    "    listB = [3,4,5,6,7]\n",
    "    diff(listA,listB)\n",
    "\n",
    "if __name__ == '__main__':\n",
    "    main()"
   ]
  },
  {
   "cell_type": "markdown",
   "metadata": {},
   "source": [
    "## 两个list对应元素操作(相减)"
   ]
  },
  {
   "cell_type": "code",
   "execution_count": 1,
   "metadata": {},
   "outputs": [
    {
     "name": "stdout",
     "output_type": "stream",
     "text": [
      "[21, 34, 45]\n",
      "[55, 25, 77]\n",
      "[34, -9, 32]\n"
     ]
    }
   ],
   "source": [
    "# coding=gbk\n",
    " \n",
    "v1 = [21, 34, 45]\n",
    "v2 = [55, 25, 77]\n",
    " \n",
    "#v = v2 - v1\t\t\t\n",
    "# Error: TypeError: unsupported operand type(s) for -: 'list' and 'list'\n",
    "\n",
    "v = list(map(lambda x: x[0]-x[1], zip(v2, v1)))\n",
    "print(\"%s\\n%s\\n%s\" %(v1, v2, v))\n"
   ]
  },
  {
   "cell_type": "code",
   "execution_count": null,
   "metadata": {},
   "outputs": [],
   "source": []
  },
  {
   "cell_type": "code",
   "execution_count": null,
   "metadata": {},
   "outputs": [],
   "source": []
  },
  {
   "cell_type": "code",
   "execution_count": null,
   "metadata": {},
   "outputs": [],
   "source": []
  },
  {
   "cell_type": "code",
   "execution_count": null,
   "metadata": {},
   "outputs": [],
   "source": []
  },
  {
   "cell_type": "code",
   "execution_count": null,
   "metadata": {},
   "outputs": [],
   "source": []
  },
  {
   "cell_type": "code",
   "execution_count": null,
   "metadata": {},
   "outputs": [],
   "source": []
  },
  {
   "cell_type": "code",
   "execution_count": null,
   "metadata": {},
   "outputs": [],
   "source": []
  },
  {
   "cell_type": "code",
   "execution_count": null,
   "metadata": {},
   "outputs": [],
   "source": []
  }
 ],
 "metadata": {
  "kernelspec": {
   "display_name": "Python 3",
   "language": "python",
   "name": "python3"
  },
  "language_info": {
   "codemirror_mode": {
    "name": "ipython",
    "version": 3
   },
   "file_extension": ".py",
   "mimetype": "text/x-python",
   "name": "python",
   "nbconvert_exporter": "python",
   "pygments_lexer": "ipython3",
   "version": "3.7.7"
  }
 },
 "nbformat": 4,
 "nbformat_minor": 4
}
