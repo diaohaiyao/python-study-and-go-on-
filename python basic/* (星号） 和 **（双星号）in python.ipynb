{
 "nbformat": 4,
 "nbformat_minor": 2,
 "metadata": {
  "language_info": {
   "name": "python",
   "codemirror_mode": {
    "name": "ipython",
    "version": 3
   },
   "version": "3.7.4-final"
  },
  "orig_nbformat": 2,
  "file_extension": ".py",
  "mimetype": "text/x-python",
  "name": "python",
  "npconvert_exporter": "python",
  "pygments_lexer": "ipython3",
  "version": 3,
  "kernelspec": {
   "name": "python3",
   "display_name": "Python 3"
  }
 },
 "cells": [
  {
   "cell_type": "markdown",
   "metadata": {},
   "source": [
    "### 乘法运算符号"
   ]
  },
  {
   "cell_type": "code",
   "execution_count": 2,
   "metadata": {},
   "outputs": [
    {
     "output_type": "stream",
     "name": "stdout",
     "text": "2\n"
    }
   ],
   "source": [
    "a= 1\n",
    "b=2\n",
    "c = a*b\n",
    "print(c)"
   ]
  },
  {
   "cell_type": "markdown",
   "metadata": {},
   "source": [
    "### 收集列表中多余的值\n",
    "无需确保值与变量的个数相同"
   ]
  },
  {
   "cell_type": "code",
   "execution_count": 3,
   "metadata": {},
   "outputs": [
    {
     "output_type": "stream",
     "name": "stdout",
     "text": "[3, 4]\n"
    }
   ],
   "source": [
    "a,b,*c=[1,2,3,4]\n",
    "print(c)"
   ]
  },
  {
   "cell_type": "markdown",
   "metadata": {},
   "source": [
    "### 函数中的*（星号）\n",
    "涉及到函数，*号的作用在于收集参数或者分配参数。\n",
    "具体用途，是看用\\*号的场合是在*函数定义*时还是*函数调用时*。（这句话至关重要！）\n",
    "\n",
    "#### 如果在定义函数时，*代表收集参数，**代表收集关键字参数。\n",
    "无论是*和**，都指将**任意个数**的参数导入 python 函数。"
   ]
  },
  {
   "cell_type": "code",
   "execution_count": 4,
   "metadata": {},
   "outputs": [
    {
     "output_type": "stream",
     "name": "stdout",
     "text": "(1, 2, 3)\n"
    }
   ],
   "source": [
    "def myprint(*params):\n",
    "    print(params)\n",
    "myprint(1,2,3)"
   ]
  },
  {
   "cell_type": "markdown",
   "metadata": {},
   "source": []
  },
  {
   "cell_type": "markdown",
   "metadata": {},
   "source": [
    "作用是将调用时提供的所有值，放在一个元组里。\n",
    "\n",
    "### 双星号，传入关键字参数"
   ]
  },
  {
   "cell_type": "code",
   "execution_count": 5,
   "metadata": {},
   "outputs": [
    {
     "output_type": "stream",
     "name": "stdout",
     "text": "{'x': 1, 'y': 2, 'z': 3}\n"
    }
   ],
   "source": [
    "def myprint2(**params):\n",
    "    print(params)\n",
    "\n",
    "myprint2(x=1, y=2, z=3)"
   ]
  },
  {
   "cell_type": "markdown",
   "metadata": {},
   "source": [
    "得到一个字典。字典中元素的先后顺序取决于你的环境。\n",
    "\n",
    "### 在调用函数时，* 可以分解可迭代对象，解压参数列表。可结合 zip 等使用"
   ]
  },
  {
   "cell_type": "code",
   "execution_count": 6,
   "metadata": {},
   "outputs": [
    {
     "output_type": "stream",
     "name": "stdout",
     "text": "1\n2\n"
    }
   ],
   "source": [
    "def myprint(x,y):\n",
    "    print(x)\n",
    "    print(y)\n",
    "# 有一个元祖：\n",
    "params = (1,2)\n",
    "\n",
    "myprint(*params)"
   ]
  },
  {
   "cell_type": "code",
   "execution_count": 42,
   "metadata": {},
   "outputs": [
    {
     "output_type": "stream",
     "name": "stdout",
     "text": "1\n2\n(3, 4)\n{'e': 5, 'f': 6, 'g': 7}\n"
    }
   ],
   "source": [
    "# * 和 ** 一起使用：\n",
    "def foo(a, b=10, *args, **kwargs):\n",
    "        print(a)\n",
    "        print (b)\n",
    "        print (args)\n",
    "        print (kwargs)\n",
    "foo(1, 2, 3, 4, e=5, f=6, g=7)"
   ]
  },
  {
   "cell_type": "markdown",
   "metadata": {},
   "source": [
    "*(星号)的作用是把元祖中的元素先分解了出来。\n",
    "\n",
    "* 如果是**（双星号）可以分解字典：\n"
   ]
  },
  {
   "cell_type": "code",
   "execution_count": 35,
   "metadata": {},
   "outputs": [
    {
     "output_type": "stream",
     "name": "stdout",
     "text": "1\n2\n"
    },
    {
     "output_type": "error",
     "ename": "TypeError",
     "evalue": "myprint() got an unexpected keyword argument '1'",
     "traceback": [
      "\u001b[0;31m---------------------------------------------------------------------------\u001b[0m",
      "\u001b[0;31mTypeError\u001b[0m                                 Traceback (most recent call last)",
      "\u001b[0;32m<ipython-input-35-0dfa9db44e27>\u001b[0m in \u001b[0;36m<module>\u001b[0;34m\u001b[0m\n\u001b[1;32m      2\u001b[0m \u001b[0mc\u001b[0m\u001b[0;34m=\u001b[0m\u001b[0;34m{\u001b[0m\u001b[0;34m'1'\u001b[0m\u001b[0;34m:\u001b[0m\u001b[0;34m'a'\u001b[0m\u001b[0;34m,\u001b[0m\u001b[0;34m'2'\u001b[0m\u001b[0;34m:\u001b[0m\u001b[0;34m'b'\u001b[0m\u001b[0;34m}\u001b[0m\u001b[0;34m\u001b[0m\u001b[0;34m\u001b[0m\u001b[0m\n\u001b[1;32m      3\u001b[0m \u001b[0mmyprint\u001b[0m\u001b[0;34m(\u001b[0m\u001b[0;34m**\u001b[0m\u001b[0mparams\u001b[0m\u001b[0;34m)\u001b[0m\u001b[0;34m\u001b[0m\u001b[0;34m\u001b[0m\u001b[0m\n\u001b[0;32m----> 4\u001b[0;31m \u001b[0mmyprint\u001b[0m\u001b[0;34m(\u001b[0m\u001b[0;34m**\u001b[0m\u001b[0mc\u001b[0m\u001b[0;34m)\u001b[0m\u001b[0;34m\u001b[0m\u001b[0;34m\u001b[0m\u001b[0m\n\u001b[0m",
      "\u001b[0;31mTypeError\u001b[0m: myprint() got an unexpected keyword argument '1'"
     ]
    }
   ],
   "source": [
    "params={'x':1,'y':2}\n",
    "c={'1':'a','2':'b'}\n",
    "myprint(**params)\n",
    "myprint(**c)"
   ]
  },
  {
   "cell_type": "code",
   "execution_count": 34,
   "metadata": {},
   "outputs": [
    {
     "output_type": "stream",
     "name": "stdout",
     "text": "[1, 2, 3] ==== 1 2 3\n(1, 2, 3) ==== 1 2 3\n{'1': 'a', '2': 'b', '3': 'c'} ==== 1 2 3\n1\n2\n3\n"
    }
   ],
   "source": [
    "a=[1,2,3]\n",
    "b=(1,2,3)\n",
    "c={'1':'a','2':'b','3':'c'}\n",
    "print(a,\"====\",*a)\n",
    "print(b,\"====\",*b)\n",
    "print(c,\"====\",*c)\n",
    "def myprint3(x,y,z):\n",
    "    print(x)\n",
    "    print(y)\n",
    "    print(z)\n",
    "myprint3(*c)"
   ]
  },
  {
   "cell_type": "markdown",
   "metadata": {},
   "source": [
    "### map和星号的简单运用\n",
    "##### map：\n",
    "```\n",
    "map(function, iterable, ...)\n",
    "```\n",
    "(map： 将 function 对后面的可迭代对象的每一个元素组个运算。)"
   ]
  },
  {
   "cell_type": "code",
   "execution_count": 36,
   "metadata": {},
   "outputs": [
    {
     "output_type": "stream",
     "name": "stdout",
     "text": "<map object at 0x10c174050>\n~~~~~~~~~\n'12'\n'23'\n"
    }
   ],
   "source": [
    "print(map(str, (12, 23)))\n",
    "print('~~~~~~~~~')\n",
    "for i in map(str, (12, 23)):\n",
    "    print(repr(i))"
   ]
  },
  {
   "cell_type": "code",
   "execution_count": 37,
   "metadata": {},
   "outputs": [
    {
     "output_type": "stream",
     "name": "stdout",
     "text": "['12', '34', '12', '0']\n~~~~~~~~~~~~~~~~~~\n"
    },
    {
     "output_type": "execute_result",
     "data": {
      "text/plain": "[9, 4]"
     },
     "metadata": {},
     "execution_count": 37
    }
   ],
   "source": [
    "print(list(map(str, (12,34,12,0))))\n",
    "print('~~~~~~~~~~~~~~~~~~')\n",
    "list(map(lambda num:num*num, list(map(int, ('3', '2')))))"
   ]
  },
  {
   "cell_type": "code",
   "execution_count": 39,
   "metadata": {},
   "outputs": [
    {
     "output_type": "stream",
     "name": "stdout",
     "text": "[1, 3]\n~~~~~~~~~~~~~~~~~\n[1, 3, 1]\n"
    }
   ],
   "source": [
    "# 两个输入，以短的为准\n",
    "print(list(map(lambda x, y: x**y, [2,3,4],[0,1])))\n",
    "print('~~~~~~~~~~~~~~~~~')\n",
    "print(list(map(lambda x, y: x**y, [2,3,4],[0,1,0,1])))\n",
    ""
   ]
  },
  {
   "cell_type": "markdown",
   "metadata": {},
   "source": [
    "* *(星号)让后面的可迭代对象分别出来\n"
   ]
  },
  {
   "cell_type": "code",
   "execution_count": 40,
   "metadata": {},
   "outputs": [
    {
     "output_type": "stream",
     "name": "stdout",
     "text": "~~~~~~~~~~~~~~~~\n"
    },
    {
     "output_type": "error",
     "ename": "TypeError",
     "evalue": "<lambda>() missing 1 required positional argument: 'y'",
     "traceback": [
      "\u001b[0;31m---------------------------------------------------------------------------\u001b[0m",
      "\u001b[0;31mTypeError\u001b[0m                                 Traceback (most recent call last)",
      "\u001b[0;32m<ipython-input-40-46883dc168b9>\u001b[0m in \u001b[0;36m<module>\u001b[0;34m\u001b[0m\n\u001b[1;32m      3\u001b[0m \u001b[0;34m\u001b[0m\u001b[0m\n\u001b[1;32m      4\u001b[0m \u001b[0mprint\u001b[0m\u001b[0;34m(\u001b[0m\u001b[0;34m'~~~~~~~~~~~~~~~~'\u001b[0m\u001b[0;34m)\u001b[0m\u001b[0;34m\u001b[0m\u001b[0;34m\u001b[0m\u001b[0m\n\u001b[0;32m----> 5\u001b[0;31m \u001b[0madd\u001b[0m\u001b[0;34m(\u001b[0m\u001b[0mmap\u001b[0m\u001b[0;34m(\u001b[0m\u001b[0mint\u001b[0m\u001b[0;34m,\u001b[0m \u001b[0;34m(\u001b[0m\u001b[0;34m'1'\u001b[0m\u001b[0;34m,\u001b[0m \u001b[0;34m'2'\u001b[0m\u001b[0;34m)\u001b[0m\u001b[0;34m)\u001b[0m\u001b[0;34m)\u001b[0m\u001b[0;34m\u001b[0m\u001b[0;34m\u001b[0m\u001b[0m\n\u001b[0m",
      "\u001b[0;31mTypeError\u001b[0m: <lambda>() missing 1 required positional argument: 'y'"
     ]
    }
   ],
   "source": [
    "add = lambda x,y : x+y\n",
    "add(*map(int, ('1', '2')))\n",
    "\n",
    "print('~~~~~~~~~~~~~~~~')\n",
    "add(map(int, ('1', '2')))"
   ]
  },
  {
   "cell_type": "code",
   "execution_count": null,
   "metadata": {},
   "outputs": [],
   "source": []
  }
 ]
}