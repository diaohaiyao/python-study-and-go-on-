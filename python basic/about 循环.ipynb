{
 "metadata": {
  "language_info": {
   "codemirror_mode": {
    "name": "ipython",
    "version": 3
   },
   "file_extension": ".py",
   "mimetype": "text/x-python",
   "name": "python",
   "nbconvert_exporter": "python",
   "pygments_lexer": "ipython3",
   "version": "3.7.4-final"
  },
  "orig_nbformat": 2,
  "kernelspec": {
   "name": "python_defaultSpec_1599832947509",
   "display_name": "Python 3.7.4 64-bit ('anaconda3': virtualenv)"
  }
 },
 "nbformat": 4,
 "nbformat_minor": 2,
 "cells": [
  {
   "cell_type": "markdown",
   "metadata": {},
   "source": [
    "### loops - 在循环 python 中，跳过多个迭代\n",
    "目前感觉比较考虑的方法是写成while ...\n"
   ]
  },
  {
   "cell_type": "code",
   "execution_count": 5,
   "metadata": {
    "tags": []
   },
   "outputs": [
    {
     "output_type": "stream",
     "name": "stdout",
     "text": "always\nlook\naside\nof\nlife\n"
    }
   ],
   "source": [
    "song = ['always', 'look', 'on', 'the', 'bright', 'side', 'of', 'life']\n",
    "count = 0\n",
    "while count <(len(song)):\n",
    "    if song[count] ==\"look\" :\n",
    "        print(song[count])\n",
    "        count += 4\n",
    "        song[count] = 'a' + song[count]\n",
    "        continue\n",
    "    print(song[count])\n",
    "    count += 1\n",
    "\n",
    "\n"
   ]
  },
  {
   "cell_type": "markdown",
   "metadata": {},
   "source": [
    "我认为，在这里使用迭代器和 next 是很好的："
   ]
  },
  {
   "cell_type": "code",
   "execution_count": 14,
   "metadata": {
    "tags": []
   },
   "outputs": [
    {
     "output_type": "stream",
     "name": "stdout",
     "text": "always\nlook\naside\nof\nlife\n"
    }
   ],
   "source": [
    "song = ['always', 'look', 'on', 'the', 'bright', 'side', 'of', 'life']\n",
    "it = iter(song)\n",
    "while True:\n",
    "    word = next(it, None)\n",
    "    if not word:\n",
    "        break\n",
    "    print(word)\n",
    "    if word == 'look':\n",
    "        for _ in range(4): # skip 3 and take 4th\n",
    "            word = next(it, None)\n",
    "        if word:\n",
    "            print('a' + word)"
   ]
  },
  {
   "cell_type": "markdown",
   "metadata": {},
   "source": [
    "或者，使用异常处理( 它比 @Steinar 更短更健壮):"
   ]
  },
  {
   "cell_type": "code",
   "execution_count": 17,
   "metadata": {
    "tags": []
   },
   "outputs": [
    {
     "output_type": "stream",
     "name": "stdout",
     "text": "always\nlook\naside\nof\nlife\n"
    }
   ],
   "source": [
    "it = iter(song)\n",
    "while True:\n",
    "    try:\n",
    "        word = next(it)\n",
    "        print(word)\n",
    "        if word == 'look':\n",
    "            for _ in range(4):\n",
    "                word = next(it)\n",
    "            print('a' + word)\n",
    "    except StopIteration:\n",
    "        break"
   ]
  },
  {
   "cell_type": "markdown",
   "metadata": {},
   "source": [
    "##### 其他一些方法:\n",
    "\n",
    "islice(song_iter, 3, 4) 将跳过 3个元素，然后返回 4，然后执行。 调用 next() 上的从而从 song_iter() 检索 4th 元素。"
   ]
  },
  {
   "cell_type": "code",
   "execution_count": 18,
   "metadata": {
    "tags": []
   },
   "outputs": [
    {
     "output_type": "stream",
     "name": "stdout",
     "text": "always\nlook\naside\nof\nlife\n"
    }
   ],
   "source": [
    "from itertools import islice\n",
    "song = ['always', 'look', 'on', 'the', 'bright', 'side', 'of', 'life']\n",
    "song_iter = iter(song)\n",
    "\n",
    "for sing in song_iter:\n",
    "    print(sing)\n",
    "    if sing == 'look':\n",
    "        print ('a' + next(islice(song_iter, 3, 4), ''))"
   ]
  },
  {
   "cell_type": "code",
   "execution_count": null,
   "metadata": {},
   "outputs": [],
   "source": []
  },
  {
   "cell_type": "code",
   "execution_count": null,
   "metadata": {},
   "outputs": [],
   "source": []
  },
  {
   "cell_type": "code",
   "execution_count": null,
   "metadata": {},
   "outputs": [],
   "source": []
  },
  {
   "cell_type": "code",
   "execution_count": null,
   "metadata": {},
   "outputs": [],
   "source": []
  }
 ]
}