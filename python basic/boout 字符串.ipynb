{
 "cells": [
  {
   "cell_type": "markdown",
   "metadata": {},
   "source": [
    "### python 字符串去空格\n",
    "#### 去除字符串空格，在Python里面有它的内置方法"
   ]
  },
  {
   "cell_type": "code",
   "execution_count": 1,
   "metadata": {},
   "outputs": [
    {
     "output_type": "execute_result",
     "data": {
      "text/plain": "'string '"
     },
     "metadata": {},
     "execution_count": 1
    }
   ],
   "source": [
    "# lstrip：删除左边的空格\n",
    "s = ' string '\n",
    "s.lstrip()"
   ]
  },
  {
   "cell_type": "code",
   "execution_count": 2,
   "metadata": {},
   "outputs": [
    {
     "output_type": "execute_result",
     "data": {
      "text/plain": "' string'"
     },
     "metadata": {},
     "execution_count": 2
    }
   ],
   "source": [
    "# rstrip：删除右边的空格\n",
    "s = ' string '\n",
    "s.rstrip()"
   ]
  },
  {
   "cell_type": "code",
   "execution_count": 3,
   "metadata": {},
   "outputs": [
    {
     "output_type": "execute_result",
     "data": {
      "text/plain": "'string'"
     },
     "metadata": {},
     "execution_count": 3
    }
   ],
   "source": [
    "# strip：删除两端的空格\n",
    "s = '   string    '\n",
    "s.strip()"
   ]
  },
  {
   "cell_type": "code",
   "execution_count": 4,
   "metadata": {},
   "outputs": [
    {
     "output_type": "execute_result",
     "data": {
      "text/plain": "'helloworld'"
     },
     "metadata": {},
     "execution_count": 4
    }
   ],
   "source": [
    "# 使用字符串函数replace\n",
    "a = 'hello world'\n",
    "a.replace(' ', '')"
   ]
  },
  {
   "cell_type": "code",
   "execution_count": 5,
   "metadata": {
    "tags": []
   },
   "outputs": [
    {
     "output_type": "stream",
     "name": "stdout",
     "text": "helloworld\n"
    }
   ],
   "source": [
    "# 使用字符串函数split\n",
    "a = ''.join(a.split())\n",
    "print(a)"
   ]
  },
  {
   "cell_type": "code",
   "execution_count": 6,
   "metadata": {
    "tags": []
   },
   "outputs": [
    {
     "output_type": "stream",
     "name": "stdout",
     "text": "helloworld\n"
    }
   ],
   "source": [
    "# 使用正则表达式\n",
    "import re\n",
    "#strinfo = re.compile()\n",
    "strinfo = re.compile(' ')\n",
    "b = strinfo.sub('', a)\n",
    "print(b)\n",
    "#helloworld"
   ]
  },
  {
   "cell_type": "markdown",
   "metadata": {},
   "source": [
    "### Python：查找字符在字符串中的位置"
   ]
  },
  {
   "cell_type": "markdown",
   "metadata": {},
   "source": []
  },
  {
   "cell_type": "code",
   "execution_count": 1,
   "metadata": {},
   "outputs": [
    {
     "name": "stdout",
     "output_type": "stream",
     "text": [
      "5\n"
     ]
    }
   ],
   "source": [
    "str_1='wo shi yi zhi da da niu  '\n",
    "char_1='i'\n",
    "nPos=str_1.index(char_1)\n",
    "print(nPos)"
   ]
  },
  {
   "cell_type": "code",
   "execution_count": 2,
   "metadata": {},
   "outputs": [
    {
     "name": "stdout",
     "output_type": "stream",
     "text": [
      "5\n"
     ]
    }
   ],
   "source": [
    "str_1='wo shi yi zhi da da niu  '\n",
    "char_1='i'\n",
    "nPos=str_1.find(char_1)\n",
    "print(nPos)"
   ]
  },
  {
   "cell_type": "markdown",
   "metadata": {},
   "source": [
    "========如何查找所有‘i’在字符串中位置呢？==========="
   ]
  },
  {
   "cell_type": "code",
   "execution_count": 3,
   "metadata": {},
   "outputs": [
    {
     "name": "stdin",
     "output_type": "stream",
     "text": [
      "Please input the Char you want: i\n"
     ]
    },
    {
     "name": "stdout",
     "output_type": "stream",
     "text": [
      "i 5\n",
      "i 8\n",
      "i 12\n",
      "i 21\n"
     ]
    }
   ],
   "source": [
    "#开挂模式\n",
    "str_1='wo shi yi zhi da da niu  '\n",
    "char_1=str(input('Please input the Char you want:'))\n",
    "count=0\n",
    "str_list=list(str_1)\n",
    "for each_char in str_list:\n",
    "    count+=1\n",
    "    if each_char==char_1:\n",
    "        print(each_char,count-1)\n",
    "      "
   ]
  },
  {
   "cell_type": "code",
   "execution_count": null,
   "metadata": {},
   "outputs": [],
   "source": []
  },
  {
   "cell_type": "code",
   "execution_count": null,
   "metadata": {},
   "outputs": [],
   "source": []
  },
  {
   "cell_type": "code",
   "execution_count": null,
   "metadata": {},
   "outputs": [],
   "source": []
  }
 ],
 "metadata": {
  "kernelspec": {
   "display_name": "Python 3",
   "language": "python",
   "name": "python3"
  },
  "language_info": {
   "codemirror_mode": {
    "name": "ipython",
    "version": 3
   },
   "file_extension": ".py",
   "mimetype": "text/x-python",
   "name": "python",
   "nbconvert_exporter": "python",
   "pygments_lexer": "ipython3",
   "version": "3.7.4-final"
  }
 },
 "nbformat": 4,
 "nbformat_minor": 4
}