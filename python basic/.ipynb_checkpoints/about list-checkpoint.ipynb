{
 "cells": [
  {
   "cell_type": "code",
   "execution_count": 2,
   "metadata": {
    "tags": []
   },
   "outputs": [
    {
     "output_type": "stream",
     "name": "stdout",
     "text": "[[0 0 0 0 0 1 2]\n [1 2 2 0 0 1 2]] \n [[False False False False False  True  True]\n [ True  True  True False False  True  True]] \n (array([0, 0, 1, 1, 1, 1, 1]), array([5, 6, 0, 1, 2, 5, 6])) \n [1 2 1 2 2 1 2]\n"
    }
   ],
   "source": [
    "# 提取列表内大于阈值提取位置\n",
    "\n",
    "import numpy as np\n",
    "probs = np.array([[0, 0, 0, 0, 0, 1, 2], [1, 2, 2, 0, 0, 1, 2]])\n",
    "a = np.array(probs >= 1, dtype='bool')\n",
    "c = np.nonzero(a)\n",
    "b = probs[a]\n",
    "print(probs, '\\n',a, '\\n', c, '\\n', b,)"
   ]
  },
  {
   "cell_type": "markdown",
   "metadata": {},
   "source": [
    "## list 删除元素\n",
    "### 使用 del 删除指定元素"
   ]
  },
  {
   "cell_type": "code",
   "execution_count": 2,
   "metadata": {},
   "outputs": [
    {
     "output_type": "stream",
     "name": "stdout",
     "text": "['A', 'B', 'D']\n"
    }
   ],
   "source": [
    " li = ['A', 'B', 'C', 'D']\n",
    " del li[2]\n",
    " print(li)"
   ]
  },
  {
   "cell_type": "markdown",
   "metadata": {},
   "source": [
    "使用 list 方法 remove 删除指定值的元素\n",
    "\n",
    "可以删除指定元素"
   ]
  },
  {
   "cell_type": "code",
   "execution_count": 8,
   "metadata": {},
   "outputs": [
    {
     "output_type": "stream",
     "name": "stdout",
     "text": "['A', 'B', 'D']\n"
    }
   ],
   "source": [
    "li = ['A', 'B', 'C', 'D']\n",
    "li.remove('C')\n",
    "print(li)"
   ]
  },
  {
   "cell_type": "markdown",
   "metadata": {},
   "source": [
    "### 使用 pop 删除元素"
   ]
  },
  {
   "cell_type": "code",
   "execution_count": 4,
   "metadata": {},
   "outputs": [
    {
     "output_type": "stream",
     "name": "stdout",
     "text": "['A', 'B', 'D']\n~~~~~~~~~\n"
    },
    {
     "output_type": "error",
     "ename": "TypeError",
     "evalue": "'str' object cannot be interpreted as an integer",
     "traceback": [
      "\u001b[0;31m---------------------------------------------------------------------------\u001b[0m",
      "\u001b[0;31mTypeError\u001b[0m                                 Traceback (most recent call last)",
      "\u001b[0;32m<ipython-input-4-3907afc9993f>\u001b[0m in \u001b[0;36m<module>\u001b[0;34m\u001b[0m\n\u001b[1;32m      3\u001b[0m \u001b[0mprint\u001b[0m\u001b[0;34m(\u001b[0m\u001b[0mli\u001b[0m\u001b[0;34m)\u001b[0m\u001b[0;34m\u001b[0m\u001b[0;34m\u001b[0m\u001b[0m\n\u001b[1;32m      4\u001b[0m \u001b[0mprint\u001b[0m\u001b[0;34m(\u001b[0m\u001b[0;34m'~~~~~~~~~'\u001b[0m\u001b[0;34m)\u001b[0m\u001b[0;34m\u001b[0m\u001b[0;34m\u001b[0m\u001b[0m\n\u001b[0;32m----> 5\u001b[0;31m \u001b[0mli\u001b[0m\u001b[0;34m.\u001b[0m\u001b[0mpop\u001b[0m\u001b[0;34m(\u001b[0m\u001b[0;34m'A'\u001b[0m\u001b[0;34m)\u001b[0m\u001b[0;34m\u001b[0m\u001b[0;34m\u001b[0m\u001b[0m\n\u001b[0m",
      "\u001b[0;31mTypeError\u001b[0m: 'str' object cannot be interpreted as an integer"
     ]
    }
   ],
   "source": [
    "\n",
    "li = ['A', 'B', 'C', 'D']\n",
    "li.pop(2)\n",
    "print(li)\n",
    "print('~~~~~~~~~')\n",
    "li.pop('A')"
   ]
  },
  {
   "cell_type": "markdown",
   "metadata": {},
   "source": [
    "### 使用切片删除元素"
   ]
  },
  {
   "cell_type": "code",
   "execution_count": 5,
   "metadata": {},
   "outputs": [
    {
     "output_type": "stream",
     "name": "stdout",
     "text": "['A', 'B', 'D']\n"
    }
   ],
   "source": [
    "li = ['A', 'B', 'C', 'D']\n",
    "li = li[:2] + li[3:]\n",
    "print(li)"
   ]
  },
  {
   "cell_type": "markdown",
   "metadata": {},
   "source": [
    "### 正确复制裂变的方法"
   ]
  },
  {
   "cell_type": "code",
   "execution_count": 9,
   "metadata": {},
   "outputs": [
    {
     "output_type": "stream",
     "name": "stdout",
     "text": "4570806384 [[10, 11], 20, 21]\n~~~~~~~~~~\n4570806304 [[10, 11], 20]\n~~~~~~~~~~\n4570851120 [[10, 11], 20]\n~~~~~~~~~~\n4570806624 [[10, 11], 20]\n~~~~~~~~~~\n4570806464 [[10, 11], 20]\n~~~~~~~~~~\n4570806784 [[10], 20]\n~~~~~~~~~~\n"
    }
   ],
   "source": [
    "import copy\n",
    "a = [[10], 20]\n",
    "b = a[:]\n",
    "c = list(a)\n",
    "d = a * 1\n",
    "e = copy.copy(a)\n",
    "f = copy.deepcopy(a)\n",
    "a.append(21)\n",
    "a[0].append(11)\n",
    "print( id(a), a)\n",
    "print('~~~~~~~~~~')\n",
    "print( id(b), b)\n",
    "print('~~~~~~~~~~')\n",
    "print (id(c), c)\n",
    "print('~~~~~~~~~~')\n",
    "print (id(d), d)\n",
    "print('~~~~~~~~~~')\n",
    "print (id(e), e)\n",
    "print('~~~~~~~~~~')\n",
    "print (id(f), f)\n",
    "print('~~~~~~~~~~')"
   ]
  },
  {
   "cell_type": "markdown",
   "metadata": {},
   "source": [
    "从以上可以看出，使用 a[:], list(a), a*1, copy.copy(a)四种方式复制列表结果都可以得到一个新的列表，但是如果列表中含有列表，所有b, c, d, e四个新列表的子列表都是指引到同一个对象上。只有使用copy.deepcopy(a)方法得到的新列表f才是包括子列表在内的完全复制。"
   ]
  },
  {
   "cell_type": "markdown",
   "metadata": {},
   "source": [
    "### python 如何找出两个list中的相同元素\n",
    "\n",
    "可以bai对第二个list的元素进行遍历，检查是否出现在du第二个zhilist当中，如果使用表理dao解，可以使用一行代码完成任务。"
   ]
  },
  {
   "cell_type": "code",
   "execution_count": 18,
   "metadata": {},
   "outputs": [
    {
     "output_type": "stream",
     "name": "stdout",
     "text": "[4, 5]\n~~~~~~~~~~~~~~~~~~~~\n{4, 5}\n"
    }
   ],
   "source": [
    "list1 = [1,2,3,4,5]\n",
    "list2 = [4,5,6,7,8]\n",
    "print([l for l in list1 if l in list2])\n",
    "# [4,5]\n",
    "print('~~~~~~~~~~~~~~~~~~~~')\n",
    "# 如果每一个列表中均没有重复的元素，那么还有另外一种更好的办法。首先把两个list转换成set，然后对两个set取交集，即可得到两个list的重复元素。\n",
    "\n",
    "set1 = set(list1)\n",
    "set2 = set(list2)\n",
    "print(set1 & set2)"
   ]
  },
  {
   "cell_type": "code",
   "execution_count": null,
   "metadata": {},
   "outputs": [],
   "source": []
  }
 ],
 "metadata": {
  "language_info": {
   "codemirror_mode": {
    "name": "ipython",
    "version": 3
   },
   "file_extension": ".py",
   "mimetype": "text/x-python",
   "name": "python",
   "nbconvert_exporter": "python",
   "pygments_lexer": "ipython3",
   "version": "3.7.4-final"
  },
  "orig_nbformat": 2,
  "kernelspec": {
   "name": "python3",
   "display_name": "Python 3"
  }
 },
 "nbformat": 4,
 "nbformat_minor": 2
}