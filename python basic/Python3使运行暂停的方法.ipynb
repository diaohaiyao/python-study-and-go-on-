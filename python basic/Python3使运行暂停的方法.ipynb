{
 "metadata": {
  "language_info": {
   "codemirror_mode": {
    "name": "ipython",
    "version": 3
   },
   "file_extension": ".py",
   "mimetype": "text/x-python",
   "name": "python",
   "nbconvert_exporter": "python",
   "pygments_lexer": "ipython3",
   "version": 3
  },
  "orig_nbformat": 2
 },
 "nbformat": 4,
 "nbformat_minor": 2,
 "cells": [
  {
   "cell_type": "markdown",
   "metadata": {},
   "source": [
    "在Python3中已经有很大一部分语句与Python2不互通了，运行暂停的方法也有所不同。\n",
    "\n",
    "1. input();\n",
    "\n",
    "    这种方法不用包含模块，因此这也是最常用的一种暂停手段。\n",
    "\n",
    "    Python2中的raw_input()和input()语句在Python3中已经被合并到input()中。\n",
    "\n",
    "2. os.system(\"pause\");\n",
    "\n",
    "    这种方法需要包含os模块（import os），在windows下IDLE运行会弹出cmd命令行，\n",
    "\n",
    "    进行暂停操作，直接运行.py文件会直接在命令行中暂停。\n",
    "\n",
    "3. time.sleep(secs);\n",
    "\n",
    "参考文档原文：\n",
    "\n",
    " \n",
    "\n",
    "Suspend execution for the given number of seconds. The argument may be a floating point number to indicate a more precise sleep time. The actual suspension time may be less than that requested because any caught signal will terminate the sleep() following execution of that signal’s catching routine. Also, the suspension time may be longer than requested by an arbitrary amount because of the scheduling of other activity in the system.\n",
    "\n",
    " \n",
    "\n",
    "     大意：\n",
    "\n",
    "          让程序执行暂停指定的秒数，参数可以是浮点型以指定精确的时间，但是程序真正暂停的时间可能长于请求的时间也可能短于暂停的时间。\n",
    "\n",
    "    这种方法需要包含time模块（import time），second是自定义的时间长短，根据实际情况，\n",
    "\n",
    "    可能会发生上下浮动。"
   ]
  },
  {
   "cell_type": "markdown",
   "metadata": {},
   "source": [
    "Python中的生成器类似于函数，除了不返回值并退出进程，生成器将暂停进程，保存下一次的状态。从代码角度来看，函数和生成器之间的最大区别是一个词：return更改为yield。\n",
    "\n",
    "\n",
    "\n",
    "处理非常大的数据集合时，生成器变得非常有用，您不希望一次性存储在内存中。它对于处理极大甚至无限的系列也非常有用。\n",
    "\n",
    "\n",
    "\n",
    "下面是如何使用生成器打印偶数的示例。一次打印所有偶数将花费无限的时间，但生成器允许进程暂停，并在需要时返回创建偶数。\n",
    "\n",
    "\n",
    "\n",
    "要创建下一个连续的偶数，只需调用next()生成器对象，它将产生下一次迭代。之后yield被调用，一切都在生成功能的状态冻结，并返回值。当再次调用发生器时next()，它会yield从之前的停止位置向右拾取。\n",
    "\n",
    "    "
   ]
  },
  {
   "cell_type": "code",
   "execution_count": null,
   "metadata": {},
   "outputs": [],
   "source": [
    "# Definition of the generator to produce even numbers.\n",
    "def all_even():\n",
    "    n = 0\n",
    "    while True:\n",
    "        yield n\n",
    "        n += 2\n",
    " \n",
    "my_gen = all_even()\n",
    " \n",
    "# Generate the first 5 even numbers.\n",
    "for i in range(5):\n",
    "    print(next(my_gen))\n",
    " \n",
    "# Now go and do some other processing.\n",
    "do_something = 4\n",
    "do_something += 3\n",
    "print(do_something)\n",
    " \n",
    "# Now go back to generating more even numbers.\n",
    "for i in range(100):\n",
    "    print(next(my_gen))\n",
    "\n"
   ]
  }
 ]
}