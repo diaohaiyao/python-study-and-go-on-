{
 "nbformat": 4,
 "nbformat_minor": 2,
 "metadata": {
  "language_info": {
   "name": "python",
   "codemirror_mode": {
    "name": "ipython",
    "version": 3
   },
   "version": "3.7.4-final"
  },
  "orig_nbformat": 2,
  "file_extension": ".py",
  "mimetype": "text/x-python",
  "name": "python",
  "npconvert_exporter": "python",
  "pygments_lexer": "ipython3",
  "version": 3,
  "kernelspec": {
   "name": "python3",
   "display_name": "Python 3"
  }
 },
 "cells": [
  {
   "cell_type": "markdown",
   "metadata": {},
   "source": [
    "在 Python 中要将某一类型的变量或者常量转换为字符串对象通常有两种方法，即 str() 或者 repr() 。\n"
   ]
  },
  {
   "cell_type": "code",
   "execution_count": 6,
   "metadata": {},
   "outputs": [
    {
     "output_type": "stream",
     "name": "stdout",
     "text": "<class 'str'>\n<class 'str'>\n"
    }
   ],
   "source": [
    "a = 10\n",
    "print(type(str(a)))\n",
    "print(type(repr(a)))"
   ]
  },
  {
   "cell_type": "markdown",
   "metadata": {},
   "source": [
    "### 区别\n",
    "* print 语句结合 str() 函数实际上是调用了对象的 __str__ 方法来输出结果。\n",
    "* print 结合 repr() 实际上是调用对象的 __repr__ 方法输出结果。\n",
    "\n",
    "通过 str() 的输出结果我们能很好地知道 now 实例的内容，但是却丢失了 now 实例的数据类型信息。而通过 repr() 的输出结果我们不仅能获得 now 实例的内容，还能知道 now 是 datetime.datetime 对象的实例。\n",
    "\n",
    "#### 因此 str() 与 repr() 的不同在于：\n",
    "\n",
    "* str() 的输出追求可读性，输出格式要便于理解，适合用于输出内容到用户终端。\n",
    "* repr() 的输出追求明确性，除了对象内容，还需要展示出对象的数据类型信息，适合开发和调试阶段使用。\n",
    "\n",
    "\n",
    "例："
   ]
  },
  {
   "cell_type": "code",
   "execution_count": 2,
   "metadata": {},
   "outputs": [
    {
     "output_type": "stream",
     "name": "stdout",
     "text": "2020-04-09 09:00:08.584382\ndatetime.datetime(2020, 4, 9, 9, 0, 8, 584382)\n"
    }
   ],
   "source": [
    "from datetime import datetime\n",
    "now = datetime.now()\n",
    "print(str(now))\n",
    "#2017-04-22 15:41:33.012917\n",
    "print(repr(now))"
   ]
  },
  {
   "cell_type": "markdown",
   "metadata": {},
   "source": [
    "如果想要自定义类的实例能够被 str() 和 repr() 所调用，那么就需要在自定义类中重载 __str__ 和 __repr__ 方法。"
   ]
  },
  {
   "cell_type": "markdown",
   "metadata": {},
   "source": [
    "python中每一個對象都會去implement __str__還有__repr__兩個方法，\n",
    "* 這兩個方法都會回傳一個代表這個對象的字串，\n",
    "* 而如果調用了print function，其輸出是__str__返回的字串，\n",
    "* 若是直接輸入變數，輸出則為__repr__返回的字串："
   ]
  },
  {
   "cell_type": "code",
   "execution_count": 7,
   "metadata": {},
   "outputs": [
    {
     "output_type": "execute_result",
     "data": {
      "text/plain": "the repr"
     },
     "metadata": {},
     "execution_count": 7
    }
   ],
   "source": [
    "class Test():\n",
    "     def __init__(self):\n",
    "             pass\n",
    "     def __repr__(self):\n",
    "             return \"the repr\"\n",
    "     def __str__(self):\n",
    "             return \"the str\"\n",
    " \n",
    "a = Test()\n",
    "a\n",
    "\n",
    ""
   ]
  },
  {
   "cell_type": "code",
   "execution_count": 8,
   "metadata": {},
   "outputs": [
    {
     "output_type": "stream",
     "name": "stdout",
     "text": "the str\n"
    }
   ],
   "source": [
    "print(a)"
   ]
  },
  {
   "cell_type": "code",
   "execution_count": null,
   "metadata": {},
   "outputs": [],
   "source": []
  },
  {
   "cell_type": "code",
   "execution_count": null,
   "metadata": {},
   "outputs": [],
   "source": []
  }
 ]
}