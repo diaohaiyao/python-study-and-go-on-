{
 "cells": [
  {
   "cell_type": "markdown",
   "metadata": {},
   "source": [
    "## Python之集合set遍历元素"
   ]
  },
  {
   "cell_type": "code",
   "execution_count": 1,
   "metadata": {},
   "outputs": [
    {
     "name": "stdout",
     "output_type": "stream",
     "text": [
      "特别好看的美女\n",
      "美女\n",
      "好看的美女\n"
     ]
    }
   ],
   "source": [
    "girl_list= [\"美女\", \"好看的美女\", \"特别好看的美女\"]\n",
    " \n",
    "girl_set = set(girl_list) \n",
    "#嘿嘿，把list转成set，set就接受一个参数\n",
    " \n",
    "for every in iter(girl_set):\n",
    "    print(every)"
   ]
  },
  {
   "cell_type": "markdown",
   "metadata": {},
   "source": [
    "### 错误方式：set对象不支持下标访问……"
   ]
  },
  {
   "cell_type": "code",
   "execution_count": 2,
   "metadata": {},
   "outputs": [
    {
     "ename": "SyntaxError",
     "evalue": "Missing parentheses in call to 'print'. Did you mean print(girl_set[index])? (<ipython-input-2-f611bb6ad398>, line 6)",
     "output_type": "error",
     "traceback": [
      "\u001b[0;36m  File \u001b[0;32m\"<ipython-input-2-f611bb6ad398>\"\u001b[0;36m, line \u001b[0;32m6\u001b[0m\n\u001b[0;31m    print girl_set[index]\u001b[0m\n\u001b[0m                 ^\u001b[0m\n\u001b[0;31mSyntaxError\u001b[0m\u001b[0;31m:\u001b[0m Missing parentheses in call to 'print'. Did you mean print(girl_set[index])?\n"
     ]
    }
   ],
   "source": [
    "girl_list= [\"美女\", \"好看的美女\", \"特别好看的美女\"]\n",
    " \n",
    "girl_set = set(girl_list) #嘿嘿，把list转成set，set就接受一个参数\n",
    " \n",
    "for index in range(len(girl_set)):\n",
    "    print girl_set[index]"
   ]
  },
  {
   "cell_type": "markdown",
   "metadata": {},
   "source": [
    "### 第二种方式：for in"
   ]
  },
  {
   "cell_type": "code",
   "execution_count": 1,
   "metadata": {},
   "outputs": [
    {
     "name": "stdout",
     "output_type": "stream",
     "text": [
      "好看的美女\n",
      "美女\n",
      "特别好看的美女\n"
     ]
    }
   ],
   "source": [
    "girl_list= [\"美女\", \"好看的美女\", \"特别好看的美女\"]\n",
    " \n",
    "girl_set = set(girl_list) \n",
    "#嘿嘿，把list转成set，set就接受一个参数\n",
    " \n",
    "for every in girl_set:\n",
    "    print(every)"
   ]
  },
  {
   "cell_type": "markdown",
   "metadata": {},
   "source": [
    "### 第三种方式：内置函数enumerate(）"
   ]
  },
  {
   "cell_type": "code",
   "execution_count": 2,
   "metadata": {},
   "outputs": [
    {
     "name": "stdout",
     "output_type": "stream",
     "text": [
      "0好看的美女\n",
      "1美女\n",
      "2特别好看的美女\n"
     ]
    }
   ],
   "source": [
    "girl_list= [\"美女\", \"好看的美女\", \"特别好看的美女\"]\n",
    " \n",
    "girl_set = set(girl_list) #嘿嘿，把list转成set，set就接受一个参数\n",
    " \n",
    "for index, every in enumerate(girl_set):\n",
    "    print(str(index) + every)"
   ]
  },
  {
   "cell_type": "code",
   "execution_count": null,
   "metadata": {},
   "outputs": [],
   "source": []
  },
  {
   "cell_type": "code",
   "execution_count": null,
   "metadata": {},
   "outputs": [],
   "source": []
  },
  {
   "cell_type": "code",
   "execution_count": null,
   "metadata": {},
   "outputs": [],
   "source": []
  },
  {
   "cell_type": "code",
   "execution_count": null,
   "metadata": {},
   "outputs": [],
   "source": []
  },
  {
   "cell_type": "code",
   "execution_count": null,
   "metadata": {},
   "outputs": [],
   "source": []
  },
  {
   "cell_type": "code",
   "execution_count": null,
   "metadata": {},
   "outputs": [],
   "source": []
  }
 ],
 "metadata": {
  "kernelspec": {
   "display_name": "Python 3",
   "language": "python",
   "name": "python3"
  },
  "language_info": {
   "codemirror_mode": {
    "name": "ipython",
    "version": 3
   },
   "file_extension": ".py",
   "mimetype": "text/x-python",
   "name": "python",
   "nbconvert_exporter": "python",
   "pygments_lexer": "ipython3",
   "version": "3.7.8"
  }
 },
 "nbformat": 4,
 "nbformat_minor": 4
}
