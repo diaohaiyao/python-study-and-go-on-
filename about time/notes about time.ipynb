{
 "cells": [
  {
   "cell_type": "markdown",
   "metadata": {},
   "source": [
    "## '1975-02-23T02:58:41.000Z'\n",
    "\n",
    "一部分错误信息如上。\n",
    "\n",
    "面对加载都要加载半天的数据出了错误，你真的是无助的，如果要去看数据怕是要看一天。\n",
    "\n",
    "当然有人会说不是有错误信息吗？当然我知道，但是一但当信息量大了以后，当时是茫然的。花了半天查找其他时间的转换方式。无果。于是静下心来发现问题。可以看出它说有一下格式不能转换。\n",
    "\n",
    "'1975-02-23T02:58:41.000Z'\n",
    "所以我又换了一种格式将时分秒都匹配了，又提醒年月日不匹配。反复的验证后发现应该是原数据有问题，部分时间并不是同意的格式。哈哈发现问题了，我们可以修改了。\n",
    "\n",
    "我第一次的修改方式为：\n",
    "```\n",
    "data['over_long'] = data['Date'].apply(len)    #添加一列记录没行时间的长度\n",
    "data.loc[data['over_long'] > 10]    #输出大于正常数据的行   这里会发现缺失有那么几行在作怪！！！\n",
    "normal_dates = data.loc[data['over_long'] < 11]    #筛选出正常数据\n",
    "normal_dates = normal_dates.copy()        #拷贝\n",
    "normal_dates['data_parsed'] = pd.to_datetime(normal_dates['Date'],format='%m/%d/%Y')    #再次转换时间，发现没有报错了 哈哈\n",
    "normal_dates['data_parsed'].head(10)    #输出查看没问题的\n",
    "```\n",
    "以上是我的第一次解决方法。\n",
    "\n",
    "后续在别人的指导下了解了其他的几种更好的方法。（毕竟我删除数据的方式不好）\n",
    "\n",
    "第一种和第二种：\n",
    "```\n",
    "data['date_parsed'] = pd.to_datetime(data['Date'], format = \"%m/%d/%Y\", errors = 'coerce')\n",
    "data['date_parsed'] = pd.to_datetime(data['Date'],infer_datetime_format=True)\n",
    "```\n",
    "两个都能实现我试了一下。毕竟对to_datetime不太熟悉所以犯了错。"
   ]
  },
  {
   "cell_type": "code",
   "execution_count": null,
   "metadata": {},
   "outputs": [],
   "source": []
  }
 ],
 "metadata": {
  "kernelspec": {
   "display_name": "Python 3",
   "language": "python",
   "name": "python3"
  },
  "language_info": {
   "codemirror_mode": {
    "name": "ipython",
    "version": 3
   },
   "file_extension": ".py",
   "mimetype": "text/x-python",
   "name": "python",
   "nbconvert_exporter": "python",
   "pygments_lexer": "ipython3",
   "version": "3.7.9"
  }
 },
 "nbformat": 4,
 "nbformat_minor": 4
}
