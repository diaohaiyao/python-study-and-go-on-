{
 "metadata": {
  "language_info": {
   "codemirror_mode": {
    "name": "ipython",
    "version": 3
   },
   "file_extension": ".py",
   "mimetype": "text/x-python",
   "name": "python",
   "nbconvert_exporter": "python",
   "pygments_lexer": "ipython3",
   "version": "3.7.4-final"
  },
  "orig_nbformat": 2,
  "kernelspec": {
   "name": "python_defaultSpec_1599385278542",
   "display_name": "Python 3.7.4 64-bit ('base': conda)"
  }
 },
 "nbformat": 4,
 "nbformat_minor": 2,
 "cells": [
  {
   "cell_type": "markdown",
   "metadata": {},
   "source": [
    "# Arrow: Better dates & times for Python\n",
    "\n",
    "Arrow is a Python library that offers a sensible and human-friendly approach to creating, manipulating, formatting and converting dates, times and timestamps. It implements and updates the datetime type, plugging gaps in functionality and providing an intelligent module API that supports many common creation scenarios. Simply put, it helps you work with dates and times with fewer imports and a lot less code.\n",
    "\n",
    "Arrow is named after the arrow of time and is heavily inspired by moment.js and requests.\n",
    "\n",
    "## Why use Arrow over built-in modules?\n",
    "Python's standard library and some other low-level modules have near-complete date, time and timezone functionality, but don't work very well from a usability perspective:\n",
    "\n",
    "* Too many modules: datetime, time, calendar, dateutil, pytz and more\n",
    "* Too many types: date, time, datetime, tzinfo, timedelta, relativedelta, etc.\n",
    "* Timezones and timestamp conversions are verbose and unpleasant\n",
    "* Timezone naivety is the norm\n",
    "* Gaps in functionality: ISO 8601 parsing, timespans, humanization\n",
    "\n",
    "## Features\n",
    "* Fully-implemented, drop-in replacement for datetime\n",
    "* Supports Python 2.7, 3.5, 3.6, 3.7, 3.8 and 3.9\n",
    "* Timezone-aware and UTC by default\n",
    "* Provides super-simple creation options for many common input scenarios\n",
    "* shift method with support for relative offsets, including weeks\n",
    "* Formats and parses strings automatically\n",
    "* Wide support for ISO 8601\n",
    "* Timezone conversion\n",
    "* Timestamp available as a property\n",
    "* Generates time spans, ranges, floors and ceilings for time frames ranging * from microsecond to year\n",
    "* Humanizes and supports a growing list of contributed locales\n",
    "* Extensible for your own Arrow-derived types\n",
    "\n",
    "## Example Usage"
   ]
  },
  {
   "cell_type": "code",
   "execution_count": 1,
   "metadata": {},
   "outputs": [
    {
     "output_type": "execute_result",
     "data": {
      "text/plain": "<Arrow [2013-05-11T21:23:58.970460+07:00]>"
     },
     "metadata": {},
     "execution_count": 1
    }
   ],
   "source": [
    "import arrow\n",
    "arrow.get('2013-05-11T21:23:58.970460+07:00')"
   ]
  },
  {
   "cell_type": "code",
   "execution_count": 2,
   "metadata": {},
   "outputs": [
    {
     "output_type": "execute_result",
     "data": {
      "text/plain": "<Arrow [2020-08-13T05:30:13.566679+00:00]>"
     },
     "metadata": {},
     "execution_count": 2
    }
   ],
   "source": [
    "utc = arrow.utcnow()\n",
    "utc"
   ]
  },
  {
   "cell_type": "code",
   "execution_count": 2,
   "metadata": {
    "tags": []
   },
   "outputs": [
    {
     "output_type": "stream",
     "name": "stdout",
     "text": "2020-09-06T17:43:23.225187+08:00\n"
    }
   ],
   "source": [
    "# 获得现在当地时间...\n",
    "import arrow\n",
    "here_now = arrow.now()\n",
    "print(here_now)"
   ]
  },
  {
   "cell_type": "code",
   "execution_count": 3,
   "metadata": {},
   "outputs": [
    {
     "output_type": "execute_result",
     "data": {
      "text/plain": "<Arrow [2020-09-06T16:43:23.225187+08:00]>"
     },
     "metadata": {},
     "execution_count": 3
    }
   ],
   "source": [
    "here_now.shift(hours = -1)"
   ]
  },
  {
   "cell_type": "code",
   "execution_count": 6,
   "metadata": {},
   "outputs": [
    {
     "output_type": "execute_result",
     "data": {
      "text/plain": "1597296657"
     },
     "metadata": {},
     "execution_count": 6
    }
   ],
   "source": [
    "here_now.timestamp"
   ]
  },
  {
   "cell_type": "code",
   "execution_count": 7,
   "metadata": {},
   "outputs": [
    {
     "output_type": "execute_result",
     "data": {
      "text/plain": "'2020-08-13 13:30:57+08:00'"
     },
     "metadata": {},
     "execution_count": 7
    }
   ],
   "source": [
    "here_now.format()"
   ]
  },
  {
   "cell_type": "code",
   "execution_count": 18,
   "metadata": {
    "tags": []
   },
   "outputs": [
    {
     "output_type": "stream",
     "name": "stdout",
     "text": "20200813\n<class 'str'>\n"
    }
   ],
   "source": [
    "print(here_now.format('YYYYMMDD'))\n",
    "print(type(here_now.format('YYYYMMDD')))"
   ]
  },
  {
   "cell_type": "code",
   "execution_count": 9,
   "metadata": {},
   "outputs": [
    {
     "output_type": "execute_result",
     "data": {
      "text/plain": "'20200813 13:30:57 +08:00'"
     },
     "metadata": {},
     "execution_count": 9
    }
   ],
   "source": [
    "here_now.format('YYYYMMDD HH:mm:ss ZZ')"
   ]
  },
  {
   "cell_type": "code",
   "execution_count": 12,
   "metadata": {},
   "outputs": [
    {
     "output_type": "execute_result",
     "data": {
      "text/plain": "'5 minutes ago'"
     },
     "metadata": {},
     "execution_count": 12
    }
   ],
   "source": [
    "here_now.humanize() #返回了一个... here_now 到目前时间差距的值."
   ]
  },
  {
   "cell_type": "markdown",
   "metadata": {},
   "source": [
    "## Documentation\n",
    "For full documentation, please visit [arrow.readthedocs.io.](https://arrow.readthedocs.io/en/stable/)"
   ]
  },
  {
   "cell_type": "markdown",
   "metadata": {},
   "source": [
    "##### 输入某一个形式的字符串表示的日期,然后获得其后一天的日期,并把它转换成想要的格式.\n"
   ]
  },
  {
   "cell_type": "code",
   "execution_count": 20,
   "metadata": {
    "tags": []
   },
   "outputs": [
    {
     "output_type": "stream",
     "name": "stdout",
     "text": "2020-08-10T00:00:00+00:00\n2020-08-11T00:00:00+00:00\n<class 'arrow.arrow.Arrow'>\n20200811\n"
    }
   ],
   "source": [
    "date_stockdaily = '2020-08-10'\n",
    "test_date = arrow.get(date_stockdaily, 'YYYY-MM-DD')\n",
    "print(test_date)\n",
    "print(test_date.shift(days = +1))\n",
    "print(type(test_date.shift(days = +1)))\n",
    "date_stockdailyadd1 = test_date.shift(days = +1)\n",
    "date_stockdailyadd1 = date_stockdailyadd1.format('YYYYMMDD')\n",
    "print(date_stockdailyadd1)\n",
    "# ok 我好像搞定了,果然很方便.有时间更加好好看看."
   ]
  },
  {
   "cell_type": "code",
   "execution_count": null,
   "metadata": {},
   "outputs": [],
   "source": []
  },
  {
   "cell_type": "code",
   "execution_count": null,
   "metadata": {},
   "outputs": [],
   "source": []
  },
  {
   "cell_type": "code",
   "execution_count": null,
   "metadata": {},
   "outputs": [],
   "source": []
  },
  {
   "cell_type": "code",
   "execution_count": null,
   "metadata": {},
   "outputs": [],
   "source": []
  },
  {
   "cell_type": "code",
   "execution_count": null,
   "metadata": {},
   "outputs": [],
   "source": []
  },
  {
   "cell_type": "code",
   "execution_count": null,
   "metadata": {},
   "outputs": [],
   "source": []
  },
  {
   "cell_type": "code",
   "execution_count": null,
   "metadata": {},
   "outputs": [],
   "source": []
  },
  {
   "cell_type": "code",
   "execution_count": null,
   "metadata": {},
   "outputs": [],
   "source": []
  },
  {
   "cell_type": "code",
   "execution_count": null,
   "metadata": {},
   "outputs": [],
   "source": []
  },
  {
   "cell_type": "code",
   "execution_count": null,
   "metadata": {},
   "outputs": [],
   "source": []
  }
 ]
}