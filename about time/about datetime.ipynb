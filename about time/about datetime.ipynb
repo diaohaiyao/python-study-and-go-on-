{
 "metadata": {
  "language_info": {
   "codemirror_mode": {
    "name": "ipython",
    "version": 3
   },
   "file_extension": ".py",
   "mimetype": "text/x-python",
   "name": "python",
   "nbconvert_exporter": "python",
   "pygments_lexer": "ipython3",
   "version": "3.8.3-final"
  },
  "orig_nbformat": 2,
  "kernelspec": {
   "name": "Python 3.8.3 64-bit (conda)",
   "display_name": "Python 3.8.3 64-bit (conda)",
   "metadata": {
    "interpreter": {
     "hash": "78aa744fb72e0bf868442b14295ea093eef2578e3f089b85e25199ab095a1f48"
    }
   }
  }
 },
 "nbformat": 4,
 "nbformat_minor": 2,
 "cells": [
  {
   "source": [
    "# about datetime"
   ],
   "cell_type": "markdown",
   "metadata": {}
  },
  {
   "source": [
    "### 获取当前时间\n",
    "### Python获取系统时间"
   ],
   "cell_type": "markdown",
   "metadata": {}
  },
  {
   "cell_type": "code",
   "execution_count": 1,
   "metadata": {
    "tags": []
   },
   "outputs": [
    {
     "output_type": "stream",
     "name": "stdout",
     "text": [
      "2020-11-01 19:12:50.316103\n2020-11-01\n201101\n<class 'str'>\n201100\n20201031\n"
     ]
    }
   ],
   "source": [
    "import datetime\n",
    "theTime = datetime.datetime.now()\n",
    "print(theTime)\n",
    "\n",
    "import datetime\n",
    "today= datetime.date.today()\n",
    "print (today)\n",
    "\n",
    "formatted_today=today.strftime('%y%m%d')\n",
    "print (formatted_today)\n",
    "print (type(formatted_today))\n",
    "\n",
    "yesterday=int(formatted_today)-1\n",
    "print (yesterday)\n",
    "\n",
    "# 执行这行代码后，3月1日的前一天变成了3月0日\n",
    "# 修改: \n",
    "yesterday = (datetime.date.today() + datetime.timedelta(days=-1)).strftime('%Y%m%d')\n",
    "print(yesterday)"
   ]
  },
  {
   "cell_type": "code",
   "execution_count": 2,
   "metadata": {},
   "outputs": [
    {
     "output_type": "stream",
     "name": "stdout",
     "text": [
      "2020-11-01 19:13:28,794760\n19\n<class 'str'>\n13\n"
     ]
    }
   ],
   "source": [
    "# 定义格式：\n",
    "ISOTIMEFORMAT = '%Y-%m-%d %H:%M:%S,%f'\n",
    "theTime = datetime.datetime.now().strftime(ISOTIMEFORMAT)\n",
    "# 该格式为：年-月-日 时：分：秒，毫秒 。可根据自己的需求删减\n",
    "print(theTime)\n",
    "# 我现在想只获得 小时和时间\n",
    "hour_theTime = datetime.datetime.now().strftime('%H')\n",
    "print(hour_theTime)\n",
    "print(type(hour_theTime)) # str\n",
    "# 只获得,分钟\n",
    "min_theTime = datetime.datetime.now().strftime('%M')\n",
    "print(min_theTime)"
   ]
  },
  {
   "cell_type": "code",
   "execution_count": null,
   "metadata": {},
   "outputs": [],
   "source": []
  },
  {
   "cell_type": "code",
   "execution_count": null,
   "metadata": {},
   "outputs": [],
   "source": []
  },
  {
   "cell_type": "code",
   "execution_count": null,
   "metadata": {},
   "outputs": [],
   "source": []
  },
  {
   "cell_type": "code",
   "execution_count": null,
   "metadata": {},
   "outputs": [],
   "source": []
  },
  {
   "cell_type": "code",
   "execution_count": null,
   "metadata": {},
   "outputs": [],
   "source": []
  },
  {
   "cell_type": "code",
   "execution_count": null,
   "metadata": {},
   "outputs": [],
   "source": []
  },
  {
   "cell_type": "code",
   "execution_count": null,
   "metadata": {},
   "outputs": [],
   "source": []
  },
  {
   "cell_type": "code",
   "execution_count": null,
   "metadata": {},
   "outputs": [],
   "source": []
  },
  {
   "cell_type": "code",
   "execution_count": null,
   "metadata": {},
   "outputs": [],
   "source": []
  },
  {
   "cell_type": "code",
   "execution_count": null,
   "metadata": {},
   "outputs": [],
   "source": []
  },
  {
   "cell_type": "code",
   "execution_count": null,
   "metadata": {},
   "outputs": [],
   "source": []
  },
  {
   "cell_type": "code",
   "execution_count": null,
   "metadata": {},
   "outputs": [],
   "source": []
  }
 ]
}