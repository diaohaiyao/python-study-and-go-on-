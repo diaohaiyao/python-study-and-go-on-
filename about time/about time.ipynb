{
 "metadata": {
  "language_info": {
   "codemirror_mode": {
    "name": "ipython",
    "version": 3
   },
   "file_extension": ".py",
   "mimetype": "text/x-python",
   "name": "python",
   "nbconvert_exporter": "python",
   "pygments_lexer": "ipython3",
   "version": 3
  },
  "orig_nbformat": 2,
  "kernelspec": {
   "name": "python_defaultSpec_1597034044686",
   "display_name": "Python 3.7.4 64-bit ('base': conda)"
  }
 },
 "nbformat": 4,
 "nbformat_minor": 2,
 "cells": [
  {
   "cell_type": "markdown",
   "metadata": {},
   "source": [
    "## Python获取系统时间\n"
   ]
  },
  {
   "cell_type": "code",
   "execution_count": 4,
   "metadata": {
    "tags": []
   },
   "outputs": [
    {
     "output_type": "stream",
     "name": "stdout",
     "text": "2020-08-10 12:36:35.875242\n"
    }
   ],
   "source": [
    "import datetime\n",
    "theTime = datetime.datetime.now()\n",
    "print(theTime)"
   ]
  },
  {
   "cell_type": "code",
   "execution_count": 10,
   "metadata": {
    "tags": []
   },
   "outputs": [
    {
     "output_type": "stream",
     "name": "stdout",
     "text": "2020-08-10 12:42:44,233423\n12\n<class 'str'>\n42\n"
    }
   ],
   "source": [
    "# 定义格式：\n",
    "ISOTIMEFORMAT = '%Y-%m-%d %H:%M:%S,%f'\n",
    "theTime = datetime.datetime.now().strftime(ISOTIMEFORMAT)\n",
    "# 该格式为：年-月-日 时：分：秒，毫秒 。可根据自己的需求删减\n",
    "print(theTime)\n",
    "# 我现在想只获得 小时和时间\n",
    "hour_theTime = datetime.datetime.now().strftime('%H')\n",
    "print(hour_theTime)\n",
    "print(type(hour_theTime)) # str\n",
    "# 只获得,分钟\n",
    "min_theTime = datetime.datetime.now().strftime('%M')\n",
    "print(min_theTime)\n"
   ]
  },
  {
   "cell_type": "code",
   "execution_count": null,
   "metadata": {},
   "outputs": [],
   "source": []
  },
  {
   "cell_type": "code",
   "execution_count": null,
   "metadata": {},
   "outputs": [],
   "source": []
  },
  {
   "cell_type": "code",
   "execution_count": null,
   "metadata": {},
   "outputs": [],
   "source": []
  },
  {
   "cell_type": "code",
   "execution_count": null,
   "metadata": {},
   "outputs": [],
   "source": []
  },
  {
   "cell_type": "code",
   "execution_count": null,
   "metadata": {},
   "outputs": [],
   "source": []
  },
  {
   "cell_type": "code",
   "execution_count": null,
   "metadata": {},
   "outputs": [],
   "source": []
  },
  {
   "cell_type": "code",
   "execution_count": null,
   "metadata": {},
   "outputs": [],
   "source": []
  }
 ]
}